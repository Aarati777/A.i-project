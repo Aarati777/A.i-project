{
  "nbformat": 4,
  "nbformat_minor": 0,
  "metadata": {
    "colab": {
      "provenance": []
    },
    "kernelspec": {
      "name": "python3",
      "display_name": "Python 3"
    },
    "language_info": {
      "name": "python"
    }
  },
  "cells": [
    {
      "cell_type": "code",
      "execution_count": 1,
      "metadata": {
        "colab": {
          "base_uri": "https://localhost:8080/"
        },
        "id": "yiw-pBGRLhgp",
        "outputId": "55bd406a-c54a-4047-8170-e666c755e3a7"
      },
      "outputs": [
        {
          "output_type": "stream",
          "name": "stdout",
          "text": [
            "Requirement already satisfied: numpy in /usr/local/lib/python3.10/dist-packages (1.26.4)\n",
            "Requirement already satisfied: pandas in /usr/local/lib/python3.10/dist-packages (2.2.2)\n",
            "Requirement already satisfied: matplotlib in /usr/local/lib/python3.10/dist-packages (3.8.0)\n",
            "Requirement already satisfied: seaborn in /usr/local/lib/python3.10/dist-packages (0.13.2)\n",
            "Requirement already satisfied: tensorflow in /usr/local/lib/python3.10/dist-packages (2.17.1)\n",
            "Requirement already satisfied: keras in /usr/local/lib/python3.10/dist-packages (3.5.0)\n",
            "Requirement already satisfied: opencv-python in /usr/local/lib/python3.10/dist-packages (4.10.0.84)\n",
            "Requirement already satisfied: scikit-learn in /usr/local/lib/python3.10/dist-packages (1.6.0)\n",
            "Requirement already satisfied: python-dateutil>=2.8.2 in /usr/local/lib/python3.10/dist-packages (from pandas) (2.8.2)\n",
            "Requirement already satisfied: pytz>=2020.1 in /usr/local/lib/python3.10/dist-packages (from pandas) (2024.2)\n",
            "Requirement already satisfied: tzdata>=2022.7 in /usr/local/lib/python3.10/dist-packages (from pandas) (2024.2)\n",
            "Requirement already satisfied: contourpy>=1.0.1 in /usr/local/lib/python3.10/dist-packages (from matplotlib) (1.3.1)\n",
            "Requirement already satisfied: cycler>=0.10 in /usr/local/lib/python3.10/dist-packages (from matplotlib) (0.12.1)\n",
            "Requirement already satisfied: fonttools>=4.22.0 in /usr/local/lib/python3.10/dist-packages (from matplotlib) (4.55.3)\n",
            "Requirement already satisfied: kiwisolver>=1.0.1 in /usr/local/lib/python3.10/dist-packages (from matplotlib) (1.4.7)\n",
            "Requirement already satisfied: packaging>=20.0 in /usr/local/lib/python3.10/dist-packages (from matplotlib) (24.2)\n",
            "Requirement already satisfied: pillow>=6.2.0 in /usr/local/lib/python3.10/dist-packages (from matplotlib) (11.0.0)\n",
            "Requirement already satisfied: pyparsing>=2.3.1 in /usr/local/lib/python3.10/dist-packages (from matplotlib) (3.2.0)\n",
            "Requirement already satisfied: absl-py>=1.0.0 in /usr/local/lib/python3.10/dist-packages (from tensorflow) (1.4.0)\n",
            "Requirement already satisfied: astunparse>=1.6.0 in /usr/local/lib/python3.10/dist-packages (from tensorflow) (1.6.3)\n",
            "Requirement already satisfied: flatbuffers>=24.3.25 in /usr/local/lib/python3.10/dist-packages (from tensorflow) (24.3.25)\n",
            "Requirement already satisfied: gast!=0.5.0,!=0.5.1,!=0.5.2,>=0.2.1 in /usr/local/lib/python3.10/dist-packages (from tensorflow) (0.6.0)\n",
            "Requirement already satisfied: google-pasta>=0.1.1 in /usr/local/lib/python3.10/dist-packages (from tensorflow) (0.2.0)\n",
            "Requirement already satisfied: h5py>=3.10.0 in /usr/local/lib/python3.10/dist-packages (from tensorflow) (3.12.1)\n",
            "Requirement already satisfied: libclang>=13.0.0 in /usr/local/lib/python3.10/dist-packages (from tensorflow) (18.1.1)\n",
            "Requirement already satisfied: ml-dtypes<0.5.0,>=0.3.1 in /usr/local/lib/python3.10/dist-packages (from tensorflow) (0.4.1)\n",
            "Requirement already satisfied: opt-einsum>=2.3.2 in /usr/local/lib/python3.10/dist-packages (from tensorflow) (3.4.0)\n",
            "Requirement already satisfied: protobuf!=4.21.0,!=4.21.1,!=4.21.2,!=4.21.3,!=4.21.4,!=4.21.5,<5.0.0dev,>=3.20.3 in /usr/local/lib/python3.10/dist-packages (from tensorflow) (4.25.5)\n",
            "Requirement already satisfied: requests<3,>=2.21.0 in /usr/local/lib/python3.10/dist-packages (from tensorflow) (2.32.3)\n",
            "Requirement already satisfied: setuptools in /usr/local/lib/python3.10/dist-packages (from tensorflow) (75.1.0)\n",
            "Requirement already satisfied: six>=1.12.0 in /usr/local/lib/python3.10/dist-packages (from tensorflow) (1.17.0)\n",
            "Requirement already satisfied: termcolor>=1.1.0 in /usr/local/lib/python3.10/dist-packages (from tensorflow) (2.5.0)\n",
            "Requirement already satisfied: typing-extensions>=3.6.6 in /usr/local/lib/python3.10/dist-packages (from tensorflow) (4.12.2)\n",
            "Requirement already satisfied: wrapt>=1.11.0 in /usr/local/lib/python3.10/dist-packages (from tensorflow) (1.17.0)\n",
            "Requirement already satisfied: grpcio<2.0,>=1.24.3 in /usr/local/lib/python3.10/dist-packages (from tensorflow) (1.68.1)\n",
            "Requirement already satisfied: tensorboard<2.18,>=2.17 in /usr/local/lib/python3.10/dist-packages (from tensorflow) (2.17.1)\n",
            "Requirement already satisfied: tensorflow-io-gcs-filesystem>=0.23.1 in /usr/local/lib/python3.10/dist-packages (from tensorflow) (0.37.1)\n",
            "Requirement already satisfied: rich in /usr/local/lib/python3.10/dist-packages (from keras) (13.9.4)\n",
            "Requirement already satisfied: namex in /usr/local/lib/python3.10/dist-packages (from keras) (0.0.8)\n",
            "Requirement already satisfied: optree in /usr/local/lib/python3.10/dist-packages (from keras) (0.13.1)\n",
            "Requirement already satisfied: scipy>=1.6.0 in /usr/local/lib/python3.10/dist-packages (from scikit-learn) (1.13.1)\n",
            "Requirement already satisfied: joblib>=1.2.0 in /usr/local/lib/python3.10/dist-packages (from scikit-learn) (1.4.2)\n",
            "Requirement already satisfied: threadpoolctl>=3.1.0 in /usr/local/lib/python3.10/dist-packages (from scikit-learn) (3.5.0)\n",
            "Requirement already satisfied: wheel<1.0,>=0.23.0 in /usr/local/lib/python3.10/dist-packages (from astunparse>=1.6.0->tensorflow) (0.45.1)\n",
            "Requirement already satisfied: charset-normalizer<4,>=2 in /usr/local/lib/python3.10/dist-packages (from requests<3,>=2.21.0->tensorflow) (3.4.0)\n",
            "Requirement already satisfied: idna<4,>=2.5 in /usr/local/lib/python3.10/dist-packages (from requests<3,>=2.21.0->tensorflow) (3.10)\n",
            "Requirement already satisfied: urllib3<3,>=1.21.1 in /usr/local/lib/python3.10/dist-packages (from requests<3,>=2.21.0->tensorflow) (2.2.3)\n",
            "Requirement already satisfied: certifi>=2017.4.17 in /usr/local/lib/python3.10/dist-packages (from requests<3,>=2.21.0->tensorflow) (2024.12.14)\n",
            "Requirement already satisfied: markdown>=2.6.8 in /usr/local/lib/python3.10/dist-packages (from tensorboard<2.18,>=2.17->tensorflow) (3.7)\n",
            "Requirement already satisfied: tensorboard-data-server<0.8.0,>=0.7.0 in /usr/local/lib/python3.10/dist-packages (from tensorboard<2.18,>=2.17->tensorflow) (0.7.2)\n",
            "Requirement already satisfied: werkzeug>=1.0.1 in /usr/local/lib/python3.10/dist-packages (from tensorboard<2.18,>=2.17->tensorflow) (3.1.3)\n",
            "Requirement already satisfied: markdown-it-py>=2.2.0 in /usr/local/lib/python3.10/dist-packages (from rich->keras) (3.0.0)\n",
            "Requirement already satisfied: pygments<3.0.0,>=2.13.0 in /usr/local/lib/python3.10/dist-packages (from rich->keras) (2.18.0)\n",
            "Requirement already satisfied: mdurl~=0.1 in /usr/local/lib/python3.10/dist-packages (from markdown-it-py>=2.2.0->rich->keras) (0.1.2)\n",
            "Requirement already satisfied: MarkupSafe>=2.1.1 in /usr/local/lib/python3.10/dist-packages (from werkzeug>=1.0.1->tensorboard<2.18,>=2.17->tensorflow) (3.0.2)\n"
          ]
        }
      ],
      "source": [
        "!pip install numpy pandas matplotlib seaborn tensorflow keras opencv-python scikit-learn"
      ]
    },
    {
      "cell_type": "code",
      "source": [
        "import numpy as np\n",
        "import pandas as pd\n",
        "import matplotlib.pyplot as plt\n",
        "import seaborn as sns\n",
        "import cv2\n",
        "from tensorflow.keras.models import Sequential\n",
        "from tensorflow.keras.layers import Dense, Dropout, Flatten, Conv2D, MaxPooling2D\n",
        "from tensorflow.keras.utils import to_categorical\n",
        "from sklearn.model_selection import train_test_split\n",
        "from sklearn.metrics import classification_report, confusion_matrix\n"
      ],
      "metadata": {
        "id": "krJZPaJEMIP4"
      },
      "execution_count": 2,
      "outputs": []
    },
    {
      "cell_type": "code",
      "source": [
        "from google.colab import files\n",
        "uploaded = files.upload()\n"
      ],
      "metadata": {
        "colab": {
          "base_uri": "https://localhost:8080/",
          "height": 73
        },
        "id": "kxZYAeL9WCAB",
        "outputId": "bcde0f60-b8fe-4bbe-b6fa-b12656014fa6"
      },
      "execution_count": 12,
      "outputs": [
        {
          "output_type": "display_data",
          "data": {
            "text/plain": [
              "<IPython.core.display.HTML object>"
            ],
            "text/html": [
              "\n",
              "     <input type=\"file\" id=\"files-079d22e4-8d29-4b9f-8468-ced70e71ab72\" name=\"files[]\" multiple disabled\n",
              "        style=\"border:none\" />\n",
              "     <output id=\"result-079d22e4-8d29-4b9f-8468-ced70e71ab72\">\n",
              "      Upload widget is only available when the cell has been executed in the\n",
              "      current browser session. Please rerun this cell to enable.\n",
              "      </output>\n",
              "      <script>// Copyright 2017 Google LLC\n",
              "//\n",
              "// Licensed under the Apache License, Version 2.0 (the \"License\");\n",
              "// you may not use this file except in compliance with the License.\n",
              "// You may obtain a copy of the License at\n",
              "//\n",
              "//      http://www.apache.org/licenses/LICENSE-2.0\n",
              "//\n",
              "// Unless required by applicable law or agreed to in writing, software\n",
              "// distributed under the License is distributed on an \"AS IS\" BASIS,\n",
              "// WITHOUT WARRANTIES OR CONDITIONS OF ANY KIND, either express or implied.\n",
              "// See the License for the specific language governing permissions and\n",
              "// limitations under the License.\n",
              "\n",
              "/**\n",
              " * @fileoverview Helpers for google.colab Python module.\n",
              " */\n",
              "(function(scope) {\n",
              "function span(text, styleAttributes = {}) {\n",
              "  const element = document.createElement('span');\n",
              "  element.textContent = text;\n",
              "  for (const key of Object.keys(styleAttributes)) {\n",
              "    element.style[key] = styleAttributes[key];\n",
              "  }\n",
              "  return element;\n",
              "}\n",
              "\n",
              "// Max number of bytes which will be uploaded at a time.\n",
              "const MAX_PAYLOAD_SIZE = 100 * 1024;\n",
              "\n",
              "function _uploadFiles(inputId, outputId) {\n",
              "  const steps = uploadFilesStep(inputId, outputId);\n",
              "  const outputElement = document.getElementById(outputId);\n",
              "  // Cache steps on the outputElement to make it available for the next call\n",
              "  // to uploadFilesContinue from Python.\n",
              "  outputElement.steps = steps;\n",
              "\n",
              "  return _uploadFilesContinue(outputId);\n",
              "}\n",
              "\n",
              "// This is roughly an async generator (not supported in the browser yet),\n",
              "// where there are multiple asynchronous steps and the Python side is going\n",
              "// to poll for completion of each step.\n",
              "// This uses a Promise to block the python side on completion of each step,\n",
              "// then passes the result of the previous step as the input to the next step.\n",
              "function _uploadFilesContinue(outputId) {\n",
              "  const outputElement = document.getElementById(outputId);\n",
              "  const steps = outputElement.steps;\n",
              "\n",
              "  const next = steps.next(outputElement.lastPromiseValue);\n",
              "  return Promise.resolve(next.value.promise).then((value) => {\n",
              "    // Cache the last promise value to make it available to the next\n",
              "    // step of the generator.\n",
              "    outputElement.lastPromiseValue = value;\n",
              "    return next.value.response;\n",
              "  });\n",
              "}\n",
              "\n",
              "/**\n",
              " * Generator function which is called between each async step of the upload\n",
              " * process.\n",
              " * @param {string} inputId Element ID of the input file picker element.\n",
              " * @param {string} outputId Element ID of the output display.\n",
              " * @return {!Iterable<!Object>} Iterable of next steps.\n",
              " */\n",
              "function* uploadFilesStep(inputId, outputId) {\n",
              "  const inputElement = document.getElementById(inputId);\n",
              "  inputElement.disabled = false;\n",
              "\n",
              "  const outputElement = document.getElementById(outputId);\n",
              "  outputElement.innerHTML = '';\n",
              "\n",
              "  const pickedPromise = new Promise((resolve) => {\n",
              "    inputElement.addEventListener('change', (e) => {\n",
              "      resolve(e.target.files);\n",
              "    });\n",
              "  });\n",
              "\n",
              "  const cancel = document.createElement('button');\n",
              "  inputElement.parentElement.appendChild(cancel);\n",
              "  cancel.textContent = 'Cancel upload';\n",
              "  const cancelPromise = new Promise((resolve) => {\n",
              "    cancel.onclick = () => {\n",
              "      resolve(null);\n",
              "    };\n",
              "  });\n",
              "\n",
              "  // Wait for the user to pick the files.\n",
              "  const files = yield {\n",
              "    promise: Promise.race([pickedPromise, cancelPromise]),\n",
              "    response: {\n",
              "      action: 'starting',\n",
              "    }\n",
              "  };\n",
              "\n",
              "  cancel.remove();\n",
              "\n",
              "  // Disable the input element since further picks are not allowed.\n",
              "  inputElement.disabled = true;\n",
              "\n",
              "  if (!files) {\n",
              "    return {\n",
              "      response: {\n",
              "        action: 'complete',\n",
              "      }\n",
              "    };\n",
              "  }\n",
              "\n",
              "  for (const file of files) {\n",
              "    const li = document.createElement('li');\n",
              "    li.append(span(file.name, {fontWeight: 'bold'}));\n",
              "    li.append(span(\n",
              "        `(${file.type || 'n/a'}) - ${file.size} bytes, ` +\n",
              "        `last modified: ${\n",
              "            file.lastModifiedDate ? file.lastModifiedDate.toLocaleDateString() :\n",
              "                                    'n/a'} - `));\n",
              "    const percent = span('0% done');\n",
              "    li.appendChild(percent);\n",
              "\n",
              "    outputElement.appendChild(li);\n",
              "\n",
              "    const fileDataPromise = new Promise((resolve) => {\n",
              "      const reader = new FileReader();\n",
              "      reader.onload = (e) => {\n",
              "        resolve(e.target.result);\n",
              "      };\n",
              "      reader.readAsArrayBuffer(file);\n",
              "    });\n",
              "    // Wait for the data to be ready.\n",
              "    let fileData = yield {\n",
              "      promise: fileDataPromise,\n",
              "      response: {\n",
              "        action: 'continue',\n",
              "      }\n",
              "    };\n",
              "\n",
              "    // Use a chunked sending to avoid message size limits. See b/62115660.\n",
              "    let position = 0;\n",
              "    do {\n",
              "      const length = Math.min(fileData.byteLength - position, MAX_PAYLOAD_SIZE);\n",
              "      const chunk = new Uint8Array(fileData, position, length);\n",
              "      position += length;\n",
              "\n",
              "      const base64 = btoa(String.fromCharCode.apply(null, chunk));\n",
              "      yield {\n",
              "        response: {\n",
              "          action: 'append',\n",
              "          file: file.name,\n",
              "          data: base64,\n",
              "        },\n",
              "      };\n",
              "\n",
              "      let percentDone = fileData.byteLength === 0 ?\n",
              "          100 :\n",
              "          Math.round((position / fileData.byteLength) * 100);\n",
              "      percent.textContent = `${percentDone}% done`;\n",
              "\n",
              "    } while (position < fileData.byteLength);\n",
              "  }\n",
              "\n",
              "  // All done.\n",
              "  yield {\n",
              "    response: {\n",
              "      action: 'complete',\n",
              "    }\n",
              "  };\n",
              "}\n",
              "\n",
              "scope.google = scope.google || {};\n",
              "scope.google.colab = scope.google.colab || {};\n",
              "scope.google.colab._files = {\n",
              "  _uploadFiles,\n",
              "  _uploadFilesContinue,\n",
              "};\n",
              "})(self);\n",
              "</script> "
            ]
          },
          "metadata": {}
        },
        {
          "output_type": "stream",
          "name": "stdout",
          "text": [
            "Saving ckextended.csv.zip to ckextended.csv (1).zip\n"
          ]
        }
      ]
    },
    {
      "cell_type": "code",
      "source": [
        "# Load the dataset\n",
        "import pandas as pd\n",
        "data = pd.read_csv(\"/content/ckextended.csv.zip\")\n",
        "data.head()"
      ],
      "metadata": {
        "colab": {
          "base_uri": "https://localhost:8080/",
          "height": 206
        },
        "id": "7pJw804kaNNL",
        "outputId": "cc3ee131-bbb6-4fee-de2f-1a2f0e8c4cd8"
      },
      "execution_count": 17,
      "outputs": [
        {
          "output_type": "execute_result",
          "data": {
            "text/plain": [
              "   emotion                                             pixels     Usage\n",
              "0        6  36 39 35 25 19 11 8 7 3 13 15 9 21 57 75 90 10...  Training\n",
              "1        6  88 74 19 4 5 5 3 12 8 21 15 21 15 18 24 29 32 ...  Training\n",
              "2        6  9 2 4 7 1 1 1 0 7 29 49 76 115 141 156 169 177...  Training\n",
              "3        6  104 106 108 104 95 50 60 61 58 83 126 133 139 ...  Training\n",
              "4        6  68 72 67 67 6 2 1 1 1 1 1 14 24 24 38 65 79 94...  Training"
            ],
            "text/html": [
              "\n",
              "  <div id=\"df-b59315a8-c9df-46b2-b8fd-a4a0b8b4f976\" class=\"colab-df-container\">\n",
              "    <div>\n",
              "<style scoped>\n",
              "    .dataframe tbody tr th:only-of-type {\n",
              "        vertical-align: middle;\n",
              "    }\n",
              "\n",
              "    .dataframe tbody tr th {\n",
              "        vertical-align: top;\n",
              "    }\n",
              "\n",
              "    .dataframe thead th {\n",
              "        text-align: right;\n",
              "    }\n",
              "</style>\n",
              "<table border=\"1\" class=\"dataframe\">\n",
              "  <thead>\n",
              "    <tr style=\"text-align: right;\">\n",
              "      <th></th>\n",
              "      <th>emotion</th>\n",
              "      <th>pixels</th>\n",
              "      <th>Usage</th>\n",
              "    </tr>\n",
              "  </thead>\n",
              "  <tbody>\n",
              "    <tr>\n",
              "      <th>0</th>\n",
              "      <td>6</td>\n",
              "      <td>36 39 35 25 19 11 8 7 3 13 15 9 21 57 75 90 10...</td>\n",
              "      <td>Training</td>\n",
              "    </tr>\n",
              "    <tr>\n",
              "      <th>1</th>\n",
              "      <td>6</td>\n",
              "      <td>88 74 19 4 5 5 3 12 8 21 15 21 15 18 24 29 32 ...</td>\n",
              "      <td>Training</td>\n",
              "    </tr>\n",
              "    <tr>\n",
              "      <th>2</th>\n",
              "      <td>6</td>\n",
              "      <td>9 2 4 7 1 1 1 0 7 29 49 76 115 141 156 169 177...</td>\n",
              "      <td>Training</td>\n",
              "    </tr>\n",
              "    <tr>\n",
              "      <th>3</th>\n",
              "      <td>6</td>\n",
              "      <td>104 106 108 104 95 50 60 61 58 83 126 133 139 ...</td>\n",
              "      <td>Training</td>\n",
              "    </tr>\n",
              "    <tr>\n",
              "      <th>4</th>\n",
              "      <td>6</td>\n",
              "      <td>68 72 67 67 6 2 1 1 1 1 1 14 24 24 38 65 79 94...</td>\n",
              "      <td>Training</td>\n",
              "    </tr>\n",
              "  </tbody>\n",
              "</table>\n",
              "</div>\n",
              "    <div class=\"colab-df-buttons\">\n",
              "\n",
              "  <div class=\"colab-df-container\">\n",
              "    <button class=\"colab-df-convert\" onclick=\"convertToInteractive('df-b59315a8-c9df-46b2-b8fd-a4a0b8b4f976')\"\n",
              "            title=\"Convert this dataframe to an interactive table.\"\n",
              "            style=\"display:none;\">\n",
              "\n",
              "  <svg xmlns=\"http://www.w3.org/2000/svg\" height=\"24px\" viewBox=\"0 -960 960 960\">\n",
              "    <path d=\"M120-120v-720h720v720H120Zm60-500h600v-160H180v160Zm220 220h160v-160H400v160Zm0 220h160v-160H400v160ZM180-400h160v-160H180v160Zm440 0h160v-160H620v160ZM180-180h160v-160H180v160Zm440 0h160v-160H620v160Z\"/>\n",
              "  </svg>\n",
              "    </button>\n",
              "\n",
              "  <style>\n",
              "    .colab-df-container {\n",
              "      display:flex;\n",
              "      gap: 12px;\n",
              "    }\n",
              "\n",
              "    .colab-df-convert {\n",
              "      background-color: #E8F0FE;\n",
              "      border: none;\n",
              "      border-radius: 50%;\n",
              "      cursor: pointer;\n",
              "      display: none;\n",
              "      fill: #1967D2;\n",
              "      height: 32px;\n",
              "      padding: 0 0 0 0;\n",
              "      width: 32px;\n",
              "    }\n",
              "\n",
              "    .colab-df-convert:hover {\n",
              "      background-color: #E2EBFA;\n",
              "      box-shadow: 0px 1px 2px rgba(60, 64, 67, 0.3), 0px 1px 3px 1px rgba(60, 64, 67, 0.15);\n",
              "      fill: #174EA6;\n",
              "    }\n",
              "\n",
              "    .colab-df-buttons div {\n",
              "      margin-bottom: 4px;\n",
              "    }\n",
              "\n",
              "    [theme=dark] .colab-df-convert {\n",
              "      background-color: #3B4455;\n",
              "      fill: #D2E3FC;\n",
              "    }\n",
              "\n",
              "    [theme=dark] .colab-df-convert:hover {\n",
              "      background-color: #434B5C;\n",
              "      box-shadow: 0px 1px 3px 1px rgba(0, 0, 0, 0.15);\n",
              "      filter: drop-shadow(0px 1px 2px rgba(0, 0, 0, 0.3));\n",
              "      fill: #FFFFFF;\n",
              "    }\n",
              "  </style>\n",
              "\n",
              "    <script>\n",
              "      const buttonEl =\n",
              "        document.querySelector('#df-b59315a8-c9df-46b2-b8fd-a4a0b8b4f976 button.colab-df-convert');\n",
              "      buttonEl.style.display =\n",
              "        google.colab.kernel.accessAllowed ? 'block' : 'none';\n",
              "\n",
              "      async function convertToInteractive(key) {\n",
              "        const element = document.querySelector('#df-b59315a8-c9df-46b2-b8fd-a4a0b8b4f976');\n",
              "        const dataTable =\n",
              "          await google.colab.kernel.invokeFunction('convertToInteractive',\n",
              "                                                    [key], {});\n",
              "        if (!dataTable) return;\n",
              "\n",
              "        const docLinkHtml = 'Like what you see? Visit the ' +\n",
              "          '<a target=\"_blank\" href=https://colab.research.google.com/notebooks/data_table.ipynb>data table notebook</a>'\n",
              "          + ' to learn more about interactive tables.';\n",
              "        element.innerHTML = '';\n",
              "        dataTable['output_type'] = 'display_data';\n",
              "        await google.colab.output.renderOutput(dataTable, element);\n",
              "        const docLink = document.createElement('div');\n",
              "        docLink.innerHTML = docLinkHtml;\n",
              "        element.appendChild(docLink);\n",
              "      }\n",
              "    </script>\n",
              "  </div>\n",
              "\n",
              "\n",
              "<div id=\"df-fe2a3037-fa8f-43e1-b405-3ff4732d7a63\">\n",
              "  <button class=\"colab-df-quickchart\" onclick=\"quickchart('df-fe2a3037-fa8f-43e1-b405-3ff4732d7a63')\"\n",
              "            title=\"Suggest charts\"\n",
              "            style=\"display:none;\">\n",
              "\n",
              "<svg xmlns=\"http://www.w3.org/2000/svg\" height=\"24px\"viewBox=\"0 0 24 24\"\n",
              "     width=\"24px\">\n",
              "    <g>\n",
              "        <path d=\"M19 3H5c-1.1 0-2 .9-2 2v14c0 1.1.9 2 2 2h14c1.1 0 2-.9 2-2V5c0-1.1-.9-2-2-2zM9 17H7v-7h2v7zm4 0h-2V7h2v10zm4 0h-2v-4h2v4z\"/>\n",
              "    </g>\n",
              "</svg>\n",
              "  </button>\n",
              "\n",
              "<style>\n",
              "  .colab-df-quickchart {\n",
              "      --bg-color: #E8F0FE;\n",
              "      --fill-color: #1967D2;\n",
              "      --hover-bg-color: #E2EBFA;\n",
              "      --hover-fill-color: #174EA6;\n",
              "      --disabled-fill-color: #AAA;\n",
              "      --disabled-bg-color: #DDD;\n",
              "  }\n",
              "\n",
              "  [theme=dark] .colab-df-quickchart {\n",
              "      --bg-color: #3B4455;\n",
              "      --fill-color: #D2E3FC;\n",
              "      --hover-bg-color: #434B5C;\n",
              "      --hover-fill-color: #FFFFFF;\n",
              "      --disabled-bg-color: #3B4455;\n",
              "      --disabled-fill-color: #666;\n",
              "  }\n",
              "\n",
              "  .colab-df-quickchart {\n",
              "    background-color: var(--bg-color);\n",
              "    border: none;\n",
              "    border-radius: 50%;\n",
              "    cursor: pointer;\n",
              "    display: none;\n",
              "    fill: var(--fill-color);\n",
              "    height: 32px;\n",
              "    padding: 0;\n",
              "    width: 32px;\n",
              "  }\n",
              "\n",
              "  .colab-df-quickchart:hover {\n",
              "    background-color: var(--hover-bg-color);\n",
              "    box-shadow: 0 1px 2px rgba(60, 64, 67, 0.3), 0 1px 3px 1px rgba(60, 64, 67, 0.15);\n",
              "    fill: var(--button-hover-fill-color);\n",
              "  }\n",
              "\n",
              "  .colab-df-quickchart-complete:disabled,\n",
              "  .colab-df-quickchart-complete:disabled:hover {\n",
              "    background-color: var(--disabled-bg-color);\n",
              "    fill: var(--disabled-fill-color);\n",
              "    box-shadow: none;\n",
              "  }\n",
              "\n",
              "  .colab-df-spinner {\n",
              "    border: 2px solid var(--fill-color);\n",
              "    border-color: transparent;\n",
              "    border-bottom-color: var(--fill-color);\n",
              "    animation:\n",
              "      spin 1s steps(1) infinite;\n",
              "  }\n",
              "\n",
              "  @keyframes spin {\n",
              "    0% {\n",
              "      border-color: transparent;\n",
              "      border-bottom-color: var(--fill-color);\n",
              "      border-left-color: var(--fill-color);\n",
              "    }\n",
              "    20% {\n",
              "      border-color: transparent;\n",
              "      border-left-color: var(--fill-color);\n",
              "      border-top-color: var(--fill-color);\n",
              "    }\n",
              "    30% {\n",
              "      border-color: transparent;\n",
              "      border-left-color: var(--fill-color);\n",
              "      border-top-color: var(--fill-color);\n",
              "      border-right-color: var(--fill-color);\n",
              "    }\n",
              "    40% {\n",
              "      border-color: transparent;\n",
              "      border-right-color: var(--fill-color);\n",
              "      border-top-color: var(--fill-color);\n",
              "    }\n",
              "    60% {\n",
              "      border-color: transparent;\n",
              "      border-right-color: var(--fill-color);\n",
              "    }\n",
              "    80% {\n",
              "      border-color: transparent;\n",
              "      border-right-color: var(--fill-color);\n",
              "      border-bottom-color: var(--fill-color);\n",
              "    }\n",
              "    90% {\n",
              "      border-color: transparent;\n",
              "      border-bottom-color: var(--fill-color);\n",
              "    }\n",
              "  }\n",
              "</style>\n",
              "\n",
              "  <script>\n",
              "    async function quickchart(key) {\n",
              "      const quickchartButtonEl =\n",
              "        document.querySelector('#' + key + ' button');\n",
              "      quickchartButtonEl.disabled = true;  // To prevent multiple clicks.\n",
              "      quickchartButtonEl.classList.add('colab-df-spinner');\n",
              "      try {\n",
              "        const charts = await google.colab.kernel.invokeFunction(\n",
              "            'suggestCharts', [key], {});\n",
              "      } catch (error) {\n",
              "        console.error('Error during call to suggestCharts:', error);\n",
              "      }\n",
              "      quickchartButtonEl.classList.remove('colab-df-spinner');\n",
              "      quickchartButtonEl.classList.add('colab-df-quickchart-complete');\n",
              "    }\n",
              "    (() => {\n",
              "      let quickchartButtonEl =\n",
              "        document.querySelector('#df-fe2a3037-fa8f-43e1-b405-3ff4732d7a63 button');\n",
              "      quickchartButtonEl.style.display =\n",
              "        google.colab.kernel.accessAllowed ? 'block' : 'none';\n",
              "    })();\n",
              "  </script>\n",
              "</div>\n",
              "\n",
              "    </div>\n",
              "  </div>\n"
            ],
            "application/vnd.google.colaboratory.intrinsic+json": {
              "type": "dataframe",
              "variable_name": "data",
              "summary": "{\n  \"name\": \"data\",\n  \"rows\": 920,\n  \"fields\": [\n    {\n      \"column\": \"emotion\",\n      \"properties\": {\n        \"dtype\": \"number\",\n        \"std\": 1,\n        \"min\": 0,\n        \"max\": 7,\n        \"num_unique_values\": 8,\n        \"samples\": [\n          3,\n          4,\n          6\n        ],\n        \"semantic_type\": \"\",\n        \"description\": \"\"\n      }\n    },\n    {\n      \"column\": \"pixels\",\n      \"properties\": {\n        \"dtype\": \"string\",\n        \"num_unique_values\": 920,\n        \"samples\": [\n          \"58 15 0 0 0 1 6 15 12 12 12 38 26 6 20 28 46 83 114 134 159 163 180 205 215 222 225 220 206 153 129 99 60 38 18 12 6 6 2 6 6 18 23 27 65 70 70 72 53 3 0 0 2 9 14 9 10 19 38 9 7 31 64 117 146 180 207 215 217 217 220 224 225 234 233 233 228 218 213 180 159 109 63 29 11 11 10 8 5 6 11 19 57 67 70 70 31 1 0 2 6 13 9 10 11 23 14 13 42 89 142 176 202 217 228 241 235 241 238 237 234 240 246 246 244 237 224 218 205 178 137 83 27 16 12 29 17 11 8 11 22 63 68 71 12 0 0 1 11 6 3 13 19 13 15 36 92 140 175 200 213 217 243 233 238 246 244 234 237 242 245 242 237 235 228 221 212 200 176 146 82 33 17 23 23 15 12 8 12 47 62 68 4 0 1 6 7 5 7 8 14 24 41 81 128 159 184 201 204 217 225 235 234 238 236 232 228 230 234 233 227 229 228 219 208 203 195 188 159 87 32 25 34 18 17 5 8 34 62 67 5 0 0 6 4 12 8 16 20 39 71 104 149 167 189 197 205 217 218 233 236 239 236 234 236 236 236 244 231 227 220 214 207 201 201 203 178 143 57 30 22 30 20 18 14 20 54 65 1 0 2 5 4 4 3 18 37 63 100 135 160 175 191 193 203 207 207 218 228 233 233 228 230 228 232 231 224 217 211 209 207 203 205 196 192 172 94 25 17 27 22 18 10 12 41 63 3 1 5 2 4 3 5 30 51 86 126 161 185 187 189 204 203 214 221 224 231 234 244 249 242 238 235 233 222 222 214 217 213 212 206 201 195 189 151 58 27 9 20 17 10 9 35 63 4 3 7 6 3 4 11 39 63 114 151 168 188 192 203 211 213 216 225 224 228 239 240 240 242 243 241 240 245 235 230 226 224 216 210 205 205 193 178 94 17 9 5 12 13 12 22 64 1 1 4 6 0 0 19 45 73 137 161 175 195 196 203 215 222 223 224 221 232 230 228 229 234 233 236 244 238 239 233 227 224 223 207 209 207 195 186 142 37 26 6 9 8 9 6 64 1 3 0 2 0 0 18 46 92 143 170 183 194 194 206 214 216 222 224 221 220 215 215 220 228 232 231 239 241 235 234 228 220 216 210 206 205 200 187 151 69 26 5 2 6 10 10 40 3 2 0 5 0 1 22 48 99 152 174 183 186 191 196 202 212 217 219 210 212 214 216 215 223 222 225 229 230 228 225 226 223 216 217 211 202 197 186 159 88 18 8 3 1 7 11 19 9 1 0 1 1 3 27 53 114 150 175 189 193 193 193 193 192 200 204 202 202 199 201 210 204 210 213 214 208 198 207 206 203 205 214 214 207 199 176 164 118 27 9 3 5 3 9 8 2 1 0 0 0 8 33 59 115 153 169 184 196 178 176 167 164 164 171 175 171 184 189 193 191 194 187 175 167 171 172 173 162 158 160 168 191 190 178 167 148 45 12 4 0 4 4 12 3 0 1 0 0 20 37 76 122 158 132 121 105 110 108 104 101 115 126 129 150 151 178 171 174 171 149 138 129 120 111 108 103 99 107 123 129 162 175 162 164 62 15 1 0 1 5 18 0 1 1 2 0 21 47 90 121 104 112 132 149 144 133 104 96 94 93 109 123 147 158 183 174 160 120 102 105 109 113 127 155 160 163 167 149 138 158 166 163 108 19 4 0 1 1 9 1 0 1 3 5 21 49 87 100 128 145 173 177 170 179 180 148 123 121 115 116 137 170 189 182 153 109 116 121 129 157 180 176 173 164 166 163 151 150 166 167 142 21 13 3 0 0 5 0 1 1 1 27 32 67 92 108 126 140 138 120 50 62 51 67 132 137 128 122 151 183 205 202 166 137 143 151 84 61 69 88 108 33 103 128 136 142 160 173 179 40 25 5 0 0 3 2 1 3 3 33 44 79 92 100 108 109 39 85 17 12 34 11 63 85 126 128 151 198 243 235 185 145 145 44 90 60 83 18 67 23 58 69 118 134 157 180 175 67 20 24 16 3 5 4 3 4 7 29 63 89 100 91 87 48 30 57 52 32 29 68 124 57 131 138 145 188 235 230 177 163 140 80 150 65 44 27 142 58 63 51 104 132 169 182 174 104 43 52 41 12 14 6 6 4 12 44 88 106 120 103 75 44 61 98 121 87 142 172 183 188 183 166 150 187 239 228 184 196 202 184 168 178 171 150 114 109 132 155 161 176 186 190 174 140 69 41 47 17 11 1 5 12 19 62 101 127 140 134 124 130 119 105 137 119 135 162 180 187 188 175 158 182 232 229 184 196 204 185 169 174 170 154 160 160 185 202 208 201 201 192 182 153 77 45 57 10 16 6 24 22 41 82 111 138 156 171 170 165 163 177 185 195 198 204 206 209 208 183 166 189 229 219 189 204 209 228 206 202 211 209 205 207 226 229 229 218 211 193 178 156 91 80 88 1 5 28 33 37 51 96 123 142 165 175 188 197 206 214 209 208 220 201 225 222 198 175 164 185 243 229 194 189 205 228 227 218 214 217 224 226 233 229 223 213 208 193 173 152 101 112 101 16 7 55 45 45 57 98 127 146 158 177 190 195 202 212 213 207 210 219 222 209 181 169 167 198 229 233 211 200 195 205 223 232 224 228 229 228 224 216 211 196 193 182 167 145 82 133 113 24 5 56 55 51 54 90 115 135 152 163 177 191 204 205 202 210 216 219 215 194 173 155 172 200 222 220 224 202 188 202 222 227 232 232 211 203 200 198 197 188 184 174 157 118 98 136 159 21 16 53 64 52 41 84 110 128 143 151 165 175 188 200 202 214 224 221 220 191 158 144 169 203 254 255 232 208 181 190 211 222 236 231 229 219 209 190 182 180 176 174 161 119 151 150 160 3 27 47 65 53 26 84 104 120 138 150 157 167 178 188 209 214 226 227 211 195 137 150 156 182 218 224 201 188 191 184 205 220 232 227 219 216 201 190 188 182 182 164 154 193 155 161 78 4 48 18 77 66 76 75 87 110 133 142 154 164 175 187 208 213 217 219 209 195 158 134 131 137 156 167 154 147 167 172 194 206 215 206 215 192 196 189 184 180 176 167 154 145 162 147 16 5 56 24 28 77 88 78 82 108 126 137 146 162 170 182 195 200 203 210 202 176 144 130 109 112 133 137 79 11 144 154 189 206 197 205 188 185 187 190 180 175 169 158 135 183 152 14 12 8 58 24 0 15 86 63 77 98 121 134 141 156 162 173 188 193 201 201 193 178 119 93 58 80 118 123 126 87 76 182 206 195 199 203 187 184 185 181 178 169 169 152 136 170 26 13 12 17 44 26 2 0 14 54 77 89 117 130 133 147 159 171 171 184 189 189 190 181 148 85 75 104 104 101 134 154 171 187 213 214 200 199 192 186 186 177 177 181 173 158 168 12 10 3 9 32 50 18 2 0 1 84 83 83 114 132 137 144 152 162 164 173 183 189 188 178 173 138 131 128 127 141 166 174 182 199 217 221 210 204 193 185 183 182 180 177 168 188 20 4 0 5 8 28 41 19 6 0 0 0 1 73 101 128 131 138 148 152 163 169 181 186 179 179 178 173 171 164 170 163 181 191 199 202 209 207 204 200 188 188 185 180 177 173 168 176 7 3 0 4 9 39 42 23 0 1 0 0 1 64 95 124 134 141 148 154 157 168 175 174 183 179 173 178 185 219 220 213 232 223 217 208 207 199 200 191 184 185 183 179 179 174 165 135 8 3 0 4 4 45 44 22 7 0 0 0 0 1 103 119 134 140 147 150 155 154 164 171 171 169 168 188 139 93 91 87 82 63 91 174 175 163 178 173 183 184 175 176 176 174 171 67 12 2 0 2 10 26 46 12 6 1 0 0 0 0 101 111 130 137 137 148 147 154 161 165 161 145 98 66 37 24 27 19 19 37 22 38 108 87 165 184 188 187 182 182 174 169 188 27 6 0 0 3 10 20 48 19 5 1 1 0 0 0 72 113 129 141 148 149 154 158 167 166 123 80 7 62 118 157 170 165 176 174 139 129 121 115 141 166 182 186 186 181 170 170 182 12 3 0 0 5 14 17 51 20 6 2 3 0 0 0 1 113 127 133 142 153 158 163 164 154 137 159 146 126 105 105 110 107 99 116 155 172 185 193 177 168 176 182 183 174 170 166 113 19 2 0 0 2 17 21 46 23 7 5 1 0 0 1 1 103 119 122 136 151 152 157 151 153 165 170 159 141 136 123 107 101 112 128 139 155 170 177 175 172 163 166 170 168 168 193 26 9 1 0 0 5 13 21 37 23 9 6 2 1 0 0 0 15 112 120 133 141 146 147 146 155 157 154 149 143 132 127 115 110 122 132 137 159 166 172 172 165 163 160 164 161 160 139 10 6 0 0 0 7 4 23 29 19 9 8 2 0 0 0 0 2 102 115 126 130 138 142 145 148 149 150 149 149 145 141 177 198 210 190 173 170 177 166 169 164 164 157 159 156 184 29 7 0 1 0 0 3 4 20 27 20 8 8 2 2 1 0 0 0 73 109 119 125 130 134 141 142 147 151 161 172 190 187 215 218 222 221 212 209 192 182 178 173 164 156 157 142 126 10 7 6 0 0 1 4 0 24 32 21 10 8 4 1 0 0 0 1 63 96 116 124 124 130 139 146 154 162 173 183 197 199 198 209 207 214 216 198 188 186 177 171 166 156 154 145 125 12 7 4 1 0 0 2 2 18 41 23 11 6 3 2 1 0 0 1 72 74 101 118 120 124 132 138 150 155 163 171 179 186 185 191 197 195 185 181 176 170 164 160 150 150 137 163 103 16 9 3 1 0 0 2 1 11 40 28 7 5 3 3 0 0 0 1 76 76 83 105 119 127 131 135 137 144 143 150 163 165 170 163 170 170 164 163 163 158 156 147 152 137 154 169 97 15 8 3 2 0 3 4 1 11 44 26 12 3 3 2 0 0 0 0 78 82 87 92 107 130 133 130 136 137 139 136 137 145 146 146 145 151 153 157 154 155 154 153 142 143 163 164 98 9 7 0 1 0 1 5 5 5 34 26 15 7 8 2 4 1 0 0 78 89 94 98 99 114 132 134 135 143 148 151 150 150 152 152 155 163 164 161 161 161 155 148 144 160 169 168 106 12 8 6 7 1 0 2 3 7 12\",\n          \"61 63 65 65 66 71 69 52 11 10 12 9 11 25 39 60 104 143 172 169 165 178 187 179 178 148 187 173 167 143 163 131 129 103 58 66 47 69 70 57 52 47 35 75 78 79 78 79 62 61 65 67 67 70 53 28 28 22 21 30 35 58 82 114 145 185 212 236 236 232 232 231 238 212 233 234 228 229 219 180 198 165 107 80 69 83 64 61 62 59 46 63 77 77 79 78 63 62 62 65 66 65 38 12 13 23 41 89 109 133 153 179 214 233 238 249 247 248 248 247 243 249 248 252 253 249 243 222 212 201 171 141 118 62 75 91 87 69 35 33 76 80 80 77 60 58 63 66 65 58 22 12 20 44 112 133 157 170 210 209 223 236 243 247 247 249 249 250 253 253 254 254 249 244 246 243 231 208 183 172 137 97 89 102 115 95 63 35 58 82 80 81 60 62 64 68 66 58 9 10 21 74 127 148 165 182 205 211 214 232 242 246 247 245 247 251 249 252 250 251 254 251 241 229 241 210 190 172 143 125 114 121 127 90 77 39 35 80 75 76 64 66 64 66 66 17 1 7 21 106 154 167 170 187 205 218 223 234 241 244 242 245 248 251 249 251 252 253 252 254 250 244 226 229 222 200 186 152 132 114 109 95 76 41 32 74 80 80 68 66 67 69 62 13 2 13 52 119 154 169 175 194 202 207 225 230 236 243 242 243 244 244 245 247 246 243 247 249 249 241 243 225 225 220 203 164 134 109 98 93 70 49 34 61 78 82 62 63 70 68 57 8 5 18 59 118 155 167 168 184 196 213 219 225 230 235 237 239 240 244 242 246 246 243 243 247 243 241 238 231 223 221 212 180 150 118 94 70 63 54 37 49 72 77 62 65 63 67 54 16 5 26 83 121 151 169 177 184 200 213 217 230 234 232 238 239 244 247 243 242 246 246 243 246 245 238 234 229 222 224 208 192 165 114 80 53 41 40 38 37 74 78 62 63 63 66 42 10 5 23 92 125 149 160 172 193 199 207 217 231 235 240 240 241 240 247 247 250 245 244 244 241 240 239 232 226 217 220 207 190 170 121 69 42 26 26 30 33 53 67 60 62 69 66 48 0 6 24 87 128 150 163 179 192 196 218 227 233 241 239 244 243 242 243 248 247 244 245 247 246 241 236 233 232 226 225 212 192 174 128 57 40 25 19 25 33 59 71 62 64 69 65 23 2 1 33 97 132 149 166 181 191 196 206 223 231 235 238 235 238 240 244 244 242 249 251 249 243 242 236 231 229 228 219 211 195 170 117 53 28 23 19 15 30 66 76 65 66 69 64 28 1 5 33 113 140 144 165 171 186 194 207 210 202 211 228 231 231 225 229 228 233 237 235 219 226 229 221 229 224 221 218 200 189 174 131 59 28 18 3 16 21 68 75 67 68 69 68 36 5 9 65 126 134 144 157 172 175 173 191 201 194 203 212 212 215 221 217 219 214 217 217 209 224 216 202 207 211 214 199 197 188 183 148 71 33 14 13 18 10 72 75 64 65 70 70 39 4 6 84 133 148 140 146 45 35 41 41 34 72 112 136 181 197 206 215 199 199 185 179 133 84 49 43 44 53 183 204 195 191 196 183 103 49 19 20 25 26 66 86 65 70 69 70 17 3 4 107 135 123 82 122 130 120 115 78 38 24 25 41 126 168 188 203 201 179 149 42 31 23 27 34 121 144 168 154 173 195 202 192 145 48 19 20 27 32 61 67 66 67 68 71 19 1 0 112 132 128 93 129 137 131 118 96 80 61 51 42 76 147 186 199 200 165 110 49 64 73 82 98 123 140 168 180 130 172 190 198 172 77 32 23 21 12 74 73 65 70 71 71 13 3 0 124 136 125 106 111 112 88 46 63 63 45 33 40 69 130 180 216 210 164 97 87 31 28 28 35 28 82 117 133 149 150 171 200 196 103 22 12 22 22 63 74 69 71 71 63 6 2 3 134 141 122 109 96 50 44 23 11 47 0 19 38 55 117 200 220 219 168 87 50 34 21 8 32 22 46 46 102 129 153 178 195 204 130 35 17 11 10 43 85 69 69 70 86 13 6 19 139 153 142 108 77 44 14 127 17 0 0 155 35 71 87 203 245 243 152 99 46 108 127 7 3 38 48 29 56 98 151 186 197 206 188 51 16 15 57 87 107 65 68 70 83 16 10 31 144 162 164 146 91 73 66 107 147 114 177 114 70 105 116 212 250 248 181 155 107 99 151 138 101 154 120 95 100 145 175 204 209 211 200 65 28 11 66 24 46 70 73 71 95 44 30 65 131 169 184 189 167 118 91 121 114 112 119 106 124 129 154 209 249 248 210 184 145 129 123 136 146 134 131 136 169 197 218 220 215 209 206 93 33 19 67 38 110 73 69 69 89 71 68 65 136 167 189 202 200 168 136 125 118 116 137 160 162 172 170 201 249 245 221 225 187 155 147 130 143 136 154 190 210 226 233 231 221 208 200 114 59 117 190 84 108 49 50 50 44 120 83 63 128 169 188 198 215 204 199 194 179 179 172 172 192 182 162 197 248 250 212 219 235 212 169 186 197 213 219 231 235 241 240 236 220 211 197 126 89 154 173 149 79 55 58 54 46 146 102 55 124 162 186 202 220 223 223 224 206 205 216 228 208 180 169 197 246 245 215 216 227 244 244 214 214 232 240 247 247 247 238 234 220 202 194 130 67 101 173 173 63 52 55 54 55 102 118 61 110 143 167 185 200 212 231 236 240 240 237 222 188 166 177 213 246 243 224 194 211 236 240 251 250 250 249 246 236 225 232 227 213 189 182 127 93 98 173 169 73 52 55 53 54 63 120 72 90 138 164 172 180 195 217 231 234 233 232 212 171 137 207 235 249 250 240 173 183 220 236 242 244 244 239 236 226 227 221 215 205 172 169 143 192 129 204 146 70 54 56 60 56 48 112 105 85 133 150 173 184 197 222 228 232 226 227 200 121 175 197 239 248 253 236 219 130 195 212 237 244 249 247 234 234 226 218 203 194 172 175 145 170 168 181 91 69 52 60 58 58 54 154 127 92 127 140 160 178 192 198 220 215 224 193 184 176 158 184 220 231 236 207 191 184 168 197 214 229 235 239 234 227 213 208 195 183 169 178 134 199 181 234 61 62 56 54 56 54 57 86 131 95 105 133 152 162 180 191 206 205 204 183 163 118 36 103 143 157 149 126 93 103 157 177 202 216 227 228 211 220 212 196 184 175 175 173 202 187 191 166 72 61 53 57 55 53 50 50 199 63 95 132 140 158 172 177 186 181 184 186 172 129 71 69 113 112 119 78 68 148 190 189 195 208 221 220 214 213 200 189 177 176 179 183 142 139 201 80 64 67 56 53 55 57 54 42 204 95 98 123 134 152 167 178 172 187 189 183 190 176 107 85 90 84 95 144 182 190 219 205 195 201 202 212 210 204 202 191 182 178 187 173 199 179 136 66 67 69 58 55 53 54 56 59 54 63 107 114 135 152 166 175 176 186 183 194 194 180 136 121 94 90 125 168 187 197 228 228 207 213 210 214 211 201 189 188 183 184 193 173 158 136 51 66 69 70 54 57 54 56 59 60 57 56 111 106 135 146 161 160 168 164 180 196 179 179 178 162 127 122 160 197 198 198 226 230 226 205 204 197 189 191 191 189 178 193 191 137 48 51 57 64 65 64 54 54 54 56 54 55 59 59 102 118 122 139 147 158 173 183 183 173 186 182 171 103 98 113 84 99 181 213 213 222 222 211 200 195 194 185 183 179 180 190 196 57 44 58 57 55 65 68 56 55 57 54 55 58 58 60 83 121 122 137 145 152 166 180 173 176 145 134 76 70 66 71 74 69 70 114 156 193 202 218 217 208 191 187 182 177 187 192 206 34 33 43 59 63 62 66 56 56 55 55 57 60 59 61 60 119 128 135 146 156 174 167 154 94 31 67 128 176 139 130 165 192 183 113 29 80 155 199 210 210 202 191 181 180 192 187 151 17 20 28 40 61 66 58 53 56 56 55 57 56 58 58 58 109 128 134 151 167 168 155 141 160 172 149 133 139 150 141 122 118 144 175 200 211 190 179 197 200 198 188 182 185 188 177 49 22 10 11 35 47 62 61 52 56 54 55 55 55 57 56 57 84 115 123 140 149 156 151 159 165 150 129 104 98 73 81 84 99 125 154 188 197 200 184 185 183 183 178 183 184 180 165 30 18 9 18 16 26 49 56 54 57 56 57 60 58 57 58 59 61 104 119 130 134 149 154 155 148 137 128 118 110 97 97 105 121 142 149 162 177 181 188 174 169 173 180 180 182 172 194 37 19 12 17 19 29 33 47 53 55 51 51 52 55 56 56 55 53 66 108 114 120 135 142 151 152 143 149 170 191 218 230 223 229 191 189 178 180 182 182 173 170 168 170 169 172 154 203 45 22 16 14 16 24 30 42 55 53 55 53 56 55 57 57 47 48 33 104 106 115 123 154 158 171 179 189 212 219 229 235 233 229 236 211 203 197 200 196 185 172 166 163 161 146 192 200 42 30 21 22 22 24 36 39 54 55 54 55 51 55 57 47 50 46 42 55 101 103 112 140 156 188 192 184 210 220 224 213 225 230 225 226 219 217 210 191 178 163 161 158 148 159 195 201 54 30 16 31 22 25 32 26 55 54 55 51 53 53 55 48 52 46 30 50 95 98 100 120 137 164 175 170 191 200 195 195 197 205 205 209 207 208 190 175 159 155 149 145 143 180 192 198 75 24 15 20 22 29 34 38 52 54 56 52 54 52 55 47 58 34 25 46 99 98 99 106 113 130 147 150 162 168 169 174 176 180 181 175 188 184 172 153 148 140 135 140 151 184 195 205 190 26 15 12 29 23 33 32 54 50 52 52 53 52 52 47 44 20 16 80 99 103 103 100 102 109 122 125 126 133 145 139 147 143 142 149 161 156 146 139 134 127 132 139 163 190 201 203 110 203 18 12 16 22 37 19 52 53 47 48 52 53 56 54 27 20 0 85 101 104 104 103 94 95 101 111 109 109 111 112 110 107 106 115 119 121 124 120 122 122 126 148 178 190 199 192 119 139 56 21 17 14 22 29 55 51 51 51 51 53 51 36 20 16 136 83 101 103 109 106 101 99 95 100 102 102 101 102 108 108 108 108 113 114 112 116 113 124 144 163 171 201 197 196 136 133 188 5 14 15 23 26\",\n          \"52 57 57 41 30 28 20 24 12 24 23 32 27 36 77 99 142 136 151 146 152 172 164 179 187 192 169 166 156 127 125 130 62 22 29 31 26 23 31 46 32 49 59 51 70 69 70 66 49 56 54 37 27 26 19 20 25 23 27 27 38 86 117 132 155 154 161 170 174 177 173 190 194 192 177 177 171 155 152 125 103 67 24 20 28 27 22 45 30 22 66 40 76 65 70 68 51 55 46 36 32 21 21 21 22 30 27 15 80 118 131 145 162 165 168 177 174 169 182 190 196 185 187 182 180 168 158 162 144 98 57 34 23 26 29 20 47 30 20 76 77 72 68 72 54 50 46 29 28 20 25 28 28 25 24 59 100 116 138 151 166 168 176 172 172 176 181 190 191 187 190 190 179 176 171 163 158 138 90 53 34 28 26 21 28 35 22 46 70 80 72 68 55 54 43 40 22 28 33 23 31 29 50 83 116 126 145 147 160 173 175 175 174 180 184 196 192 195 199 191 183 184 180 184 176 155 122 72 67 25 37 34 19 38 43 17 76 82 72 71 54 55 42 33 26 21 31 41 12 35 79 103 110 126 151 148 171 161 176 173 176 171 176 189 182 187 190 186 169 176 179 173 171 161 142 117 70 59 22 51 30 10 50 22 64 83 73 73 53 55 44 28 22 35 34 27 34 71 108 102 114 126 140 142 157 164 163 161 167 171 172 179 191 190 186 188 183 180 173 170 173 163 165 149 93 70 35 29 67 46 30 63 39 87 75 79 54 56 41 37 32 40 45 17 59 102 114 121 120 136 137 141 146 158 164 174 167 168 171 178 183 181 181 180 183 175 171 172 169 170 173 161 129 80 48 20 41 77 90 68 26 84 76 74 52 51 40 38 43 53 18 40 74 111 130 127 127 134 143 155 154 150 168 166 183 170 169 183 185 175 176 178 179 174 173 170 177 184 182 179 152 116 71 29 28 45 73 80 75 97 79 76 53 64 42 46 57 31 29 53 83 123 122 137 140 156 154 159 161 162 171 168 172 182 173 179 190 184 181 186 183 179 183 187 182 186 188 182 173 146 90 47 33 31 65 80 108 104 83 80 54 56 47 58 57 26 20 50 91 123 132 142 144 152 155 160 165 166 166 174 177 182 181 182 184 184 180 186 176 187 182 186 188 193 198 191 191 163 105 72 30 39 32 71 93 117 82 72 51 53 48 58 34 27 25 61 97 124 139 149 150 155 154 160 156 160 161 171 172 175 176 177 180 178 180 185 173 182 183 190 188 191 200 204 194 178 131 82 44 46 54 53 73 107 80 72 49 56 40 46 13 21 25 85 103 123 140 143 149 146 152 150 156 159 153 169 156 172 181 179 175 175 168 177 168 182 180 184 184 185 184 193 191 177 165 93 68 32 40 31 75 102 90 78 54 50 48 34 15 26 65 78 117 122 131 139 135 147 144 154 150 145 156 153 155 159 160 178 170 169 164 166 173 170 173 159 161 164 182 177 187 183 173 138 64 68 30 37 42 100 90 79 46 50 44 8 20 16 81 85 101 114 57 55 44 47 43 46 60 80 110 141 144 157 162 171 168 169 146 141 114 82 63 51 55 60 87 105 152 175 178 176 100 55 48 36 35 90 87 78 48 58 17 9 22 39 97 95 94 54 102 121 126 116 110 113 106 76 77 93 112 141 164 163 163 159 107 111 73 62 84 102 121 117 131 132 122 115 168 182 142 41 52 47 49 66 86 87 53 113 2 11 15 60 94 102 74 106 114 106 97 63 84 80 71 98 94 101 119 126 156 170 167 134 134 110 100 96 69 72 93 73 117 117 118 130 132 183 172 73 19 43 33 43 83 80 92 96 12 13 34 83 101 112 105 102 115 70 82 83 32 30 68 90 81 91 95 138 161 171 180 157 132 89 93 82 98 83 92 124 107 63 124 129 132 161 187 142 42 34 35 125 127 60 83 55 6 20 28 99 109 120 112 99 95 40 38 71 27 10 16 116 74 98 79 133 162 181 184 167 127 75 127 26 65 11 0 25 45 75 84 125 131 170 193 197 68 40 35 52 159 69 87 55 10 24 47 103 131 132 118 93 63 69 64 71 60 95 114 125 89 135 62 124 156 178 190 160 123 123 83 92 106 80 60 90 86 91 96 114 151 181 183 201 115 64 52 29 127 57 86 59 16 33 61 105 135 140 130 113 113 98 96 103 96 117 143 126 135 122 87 131 155 182 204 177 132 149 148 144 127 127 110 118 124 143 173 208 205 204 197 201 155 82 73 48 120 59 83 61 14 55 69 108 141 147 152 142 142 122 108 119 115 106 99 115 129 116 116 120 162 204 208 193 142 136 134 134 102 114 115 128 126 166 198 197 204 209 202 199 191 86 78 54 123 67 53 62 27 52 86 114 133 149 167 159 147 147 136 136 135 123 132 145 140 121 117 123 167 209 211 178 169 149 145 150 147 142 144 145 167 199 198 214 208 204 188 201 192 92 92 53 112 55 35 81 50 52 80 114 125 144 152 161 159 153 155 145 142 142 149 144 142 117 108 142 180 222 223 187 173 147 145 164 164 162 171 178 194 212 205 205 195 193 187 185 191 98 79 113 90 61 39 99 76 53 81 104 129 127 145 152 156 148 157 154 159 152 152 144 144 123 126 141 179 244 250 201 187 167 160 168 170 189 195 206 202 197 198 199 188 185 190 185 183 109 112 127 78 67 47 92 83 51 82 101 121 129 140 149 152 150 151 146 160 150 155 167 160 86 121 149 183 202 242 239 181 169 149 174 172 197 199 199 196 184 187 198 194 187 186 181 183 114 134 156 76 63 50 68 103 75 72 100 112 129 140 152 155 159 148 159 159 160 175 157 127 114 124 142 156 174 199 165 182 194 121 174 178 185 191 195 197 193 193 190 195 180 187 186 168 153 184 193 66 71 46 43 95 89 82 100 112 123 132 151 147 153 158 149 159 162 161 159 80 139 146 129 132 147 144 143 148 178 142 140 162 189 186 193 183 187 184 189 189 184 182 183 174 162 136 115 67 66 44 44 63 81 79 98 116 126 139 146 143 151 162 165 159 162 165 152 78 145 96 2 108 140 152 49 8 151 150 126 157 162 181 180 181 182 174 179 191 186 184 184 171 160 169 77 71 68 42 48 49 91 87 103 123 125 139 134 145 155 160 165 173 167 166 162 108 80 121 88 125 136 133 109 89 151 119 153 161 160 174 181 176 174 178 185 188 187 184 185 169 193 115 67 70 72 42 50 45 68 99 104 118 119 133 135 149 160 158 174 169 170 166 164 124 117 118 106 137 134 151 140 90 124 166 161 162 166 172 177 176 177 173 181 186 187 180 183 173 198 73 72 67 72 44 47 53 58 43 110 117 117 130 139 149 156 164 173 170 172 166 162 127 133 128 128 147 134 143 159 138 186 179 164 165 171 176 175 176 175 179 172 189 184 180 189 183 66 82 63 71 67 45 52 52 49 47 101 123 119 124 146 147 155 166 170 144 166 161 166 138 135 131 132 147 133 143 169 179 193 181 166 170 169 174 169 177 177 175 175 176 178 183 183 156 79 89 82 74 65 53 58 55 56 50 60 128 118 135 139 151 154 172 174 172 169 167 169 153 143 135 138 153 145 168 171 185 188 187 166 164 158 176 177 175 175 179 185 187 183 185 191 117 110 107 96 92 80 68 64 48 48 40 31 113 124 128 136 147 155 166 169 171 163 165 145 135 92 96 97 103 105 106 112 113 109 154 158 169 159 164 173 176 177 183 176 185 185 185 208 61 79 116 125 116 111 63 55 55 53 42 56 116 134 132 145 150 157 171 172 172 160 150 88 25 48 41 39 89 81 94 68 61 36 30 76 113 165 161 178 174 177 181 178 194 186 178 205 66 77 75 92 82 78 66 63 77 60 73 97 73 132 135 141 142 156 165 172 170 160 150 146 93 91 92 102 117 118 119 135 119 114 99 108 143 147 159 178 182 181 172 181 193 177 181 124 132 97 96 84 83 75 69 83 54 89 82 70 12 136 139 150 150 150 173 171 164 165 166 157 135 130 96 96 102 111 117 100 105 113 147 156 180 169 170 178 176 186 177 180 180 180 192 94 89 225 131 85 72 68 84 59 73 153 74 42 35 85 143 144 154 162 162 161 159 157 153 156 149 140 128 145 129 124 123 125 142 152 160 166 175 172 179 179 176 174 179 178 185 199 93 82 83 164 244 183 90 90 61 52 168 136 88 64 22 32 142 150 157 158 166 156 159 156 150 153 153 140 144 122 128 130 142 138 173 160 161 163 165 178 175 178 179 175 179 184 178 168 76 79 95 92 237 253 255 79 40 138 172 154 82 48 38 44 106 156 152 159 164 158 159 157 150 147 156 159 166 165 175 168 167 178 172 174 167 166 159 174 172 176 179 172 179 184 180 94 79 52 87 82 142 245 255 249 60 195 195 157 97 72 59 47 84 150 156 153 163 159 159 154 154 154 149 152 160 168 171 168 183 182 184 181 174 169 159 171 173 176 177 168 182 183 148 85 82 24 93 87 88 229 255 255 201 236 226 154 135 91 65 53 59 132 153 152 157 150 149 150 147 148 154 149 155 154 178 180 181 187 176 184 176 173 169 177 174 172 164 182 180 142 154 93 82 55 39 129 113 255 255 255 253 240 211 242 168 136 101 61 33 140 139 148 142 146 156 149 149 149 145 151 144 155 169 172 179 169 172 176 174 159 173 176 170 169 167 165 155 164 152 102 87 89 35 126 249 255 255 255 255 242 245 255 214 157 129 83 29 129 140 144 139 131 142 144 149 147 143 141 144 144 153 154 160 161 158 161 156 168 166 169 164 165 159 152 163 168 140 115 77 96 17 233 255 255 255 255 255 255 254 253 241 222 177 119 31 128 135 138 138 131 129 132 128 140 143 145 146 143 155 145 149 145 151 148 150 159 161 159 155 147 147 155 164 161 143 127 93 78 197 254 255 255 255 255 254 255 253 255 254 224 225 133 45 127 131 136 132 135 127 118 121 124 124 124 137 141 139 143 140 138 145 151 153 136 141 138 134 146 151 158 172 160 151 123 84 70 175 255 255 255 255 255 253 255 255 255 254 233 183 199 43 115 128 141 143 134 127 129 119 112 108 110 112 120 121 129 131 118 126 128 128 129 132 137 141 156 159 174 166 158 159 143 103 67 238 255 255 255 255 255\"\n        ],\n        \"semantic_type\": \"\",\n        \"description\": \"\"\n      }\n    },\n    {\n      \"column\": \"Usage\",\n      \"properties\": {\n        \"dtype\": \"category\",\n        \"num_unique_values\": 3,\n        \"samples\": [\n          \"Training\",\n          \"PublicTest\",\n          \"PrivateTest\"\n        ],\n        \"semantic_type\": \"\",\n        \"description\": \"\"\n      }\n    }\n  ]\n}"
            }
          },
          "metadata": {},
          "execution_count": 17
        }
      ]
    },
    {
      "cell_type": "code",
      "source": [
        "# Print the column names to verify\n",
        "print(data.columns)"
      ],
      "metadata": {
        "colab": {
          "base_uri": "https://localhost:8080/"
        },
        "id": "eVJ4Vn_iYYes",
        "outputId": "a6af54d8-9661-4b21-ea32-44d9e3922159"
      },
      "execution_count": 18,
      "outputs": [
        {
          "output_type": "stream",
          "name": "stdout",
          "text": [
            "Index(['emotion', 'pixels', 'Usage'], dtype='object')\n"
          ]
        }
      ]
    },
    {
      "cell_type": "code",
      "source": [
        "# Check dataset structure\n",
        "print(data.info())"
      ],
      "metadata": {
        "colab": {
          "base_uri": "https://localhost:8080/"
        },
        "id": "MMPWJtfrYczH",
        "outputId": "a7694381-7bc8-4cf5-9ec3-8ffbb3d43dd2"
      },
      "execution_count": 19,
      "outputs": [
        {
          "output_type": "stream",
          "name": "stdout",
          "text": [
            "<class 'pandas.core.frame.DataFrame'>\n",
            "RangeIndex: 920 entries, 0 to 919\n",
            "Data columns (total 3 columns):\n",
            " #   Column   Non-Null Count  Dtype \n",
            "---  ------   --------------  ----- \n",
            " 0   emotion  920 non-null    int64 \n",
            " 1   pixels   920 non-null    object\n",
            " 2   Usage    920 non-null    object\n",
            "dtypes: int64(1), object(2)\n",
            "memory usage: 21.7+ KB\n",
            "None\n"
          ]
        }
      ]
    },
    {
      "cell_type": "code",
      "source": [
        "pixels = data['pixels'].tolist()\n",
        "emotions = data['emotion'].values\n"
      ],
      "metadata": {
        "id": "-10eXW9bgO_z"
      },
      "execution_count": 20,
      "outputs": []
    },
    {
      "cell_type": "code",
      "source": [
        "images = np.array([np.fromstring(pixel, dtype=int, sep=' ') for pixel in pixels])\n",
        "images = images.reshape(images.shape[0], 48, 48, 1)\n"
      ],
      "metadata": {
        "id": "EVmkrXjrOWrn"
      },
      "execution_count": 21,
      "outputs": []
    },
    {
      "cell_type": "code",
      "source": [
        "images = images / 255.0\n"
      ],
      "metadata": {
        "id": "sWmLjPKcObIs"
      },
      "execution_count": 22,
      "outputs": []
    },
    {
      "cell_type": "code",
      "source": [
        "emotions = to_categorical(emotions, num_classes=8)\n"
      ],
      "metadata": {
        "id": "Tgjb3P8gOg78"
      },
      "execution_count": 24,
      "outputs": []
    },
    {
      "cell_type": "code",
      "source": [
        "X_train, X_test, y_train, y_test = train_test_split(images, emotions, test_size=0.2, random_state=42)\n"
      ],
      "metadata": {
        "id": "T6mlqFszOklX"
      },
      "execution_count": 25,
      "outputs": []
    },
    {
      "cell_type": "code",
      "source": [
        "from tensorflow import keras\n",
        "from tensorflow.keras.layers import Dense, Dropout, Flatten, Conv2D, MaxPooling2D\n",
        "#from tensorflow.keras.models import Sequential # This import is redundant as we are using keras.Sequential\n",
        "from tensorflow.keras.utils import to_categorical\n",
        "from sklearn.model_selection import train_test_split\n",
        "from sklearn.metrics import classification_report, confusion_matrix"
      ],
      "metadata": {
        "id": "engR4CtjhNzR"
      },
      "execution_count": 28,
      "outputs": []
    },
    {
      "cell_type": "code",
      "source": [
        "model = keras.Sequential([\n",
        "    Conv2D(64, (3, 3), activation='relu', input_shape=(48, 48, 1)),\n",
        "    MaxPooling2D(2, 2),\n",
        "    Dropout(0.25),\n",
        "\n",
        "    Conv2D(128, (3, 3), activation='relu'),\n",
        "    MaxPooling2D(2, 2),\n",
        "    Dropout(0.25),\n",
        "\n",
        "    Flatten(),\n",
        "    Dense(256, activation='relu'),\n",
        "    Dropout(0.5),\n",
        "    Dense(8, activation='softmax')\n",
        "])\n"
      ],
      "metadata": {
        "colab": {
          "base_uri": "https://localhost:8080/"
        },
        "id": "phWZdVIdOo-v",
        "outputId": "31d3989f-81a7-4ae5-fbf6-ff26f327fddb"
      },
      "execution_count": 33,
      "outputs": [
        {
          "output_type": "stream",
          "name": "stderr",
          "text": [
            "/usr/local/lib/python3.10/dist-packages/keras/src/layers/convolutional/base_conv.py:107: UserWarning: Do not pass an `input_shape`/`input_dim` argument to a layer. When using Sequential models, prefer using an `Input(shape)` object as the first layer in the model instead.\n",
            "  super().__init__(activity_regularizer=activity_regularizer, **kwargs)\n"
          ]
        }
      ]
    },
    {
      "cell_type": "code",
      "source": [
        "model.compile(optimizer='adam', loss='categorical_crossentropy', metrics=['accuracy'])\n"
      ],
      "metadata": {
        "id": "tuarWi6UPRej"
      },
      "execution_count": 34,
      "outputs": []
    },
    {
      "cell_type": "code",
      "source": [
        "model.summary()\n"
      ],
      "metadata": {
        "colab": {
          "base_uri": "https://localhost:8080/",
          "height": 449
        },
        "id": "TQEyKXASPUjr",
        "outputId": "4e72370f-9fd3-4d64-b150-b9085dfec1fa"
      },
      "execution_count": 35,
      "outputs": [
        {
          "output_type": "display_data",
          "data": {
            "text/plain": [
              "\u001b[1mModel: \"sequential_1\"\u001b[0m\n"
            ],
            "text/html": [
              "<pre style=\"white-space:pre;overflow-x:auto;line-height:normal;font-family:Menlo,'DejaVu Sans Mono',consolas,'Courier New',monospace\"><span style=\"font-weight: bold\">Model: \"sequential_1\"</span>\n",
              "</pre>\n"
            ]
          },
          "metadata": {}
        },
        {
          "output_type": "display_data",
          "data": {
            "text/plain": [
              "┏━━━━━━━━━━━━━━━━━━━━━━━━━━━━━━━━━━━━━━┳━━━━━━━━━━━━━━━━━━━━━━━━━━━━━┳━━━━━━━━━━━━━━━━━┓\n",
              "┃\u001b[1m \u001b[0m\u001b[1mLayer (type)                        \u001b[0m\u001b[1m \u001b[0m┃\u001b[1m \u001b[0m\u001b[1mOutput Shape               \u001b[0m\u001b[1m \u001b[0m┃\u001b[1m \u001b[0m\u001b[1m        Param #\u001b[0m\u001b[1m \u001b[0m┃\n",
              "┡━━━━━━━━━━━━━━━━━━━━━━━━━━━━━━━━━━━━━━╇━━━━━━━━━━━━━━━━━━━━━━━━━━━━━╇━━━━━━━━━━━━━━━━━┩\n",
              "│ conv2d_2 (\u001b[38;5;33mConv2D\u001b[0m)                    │ (\u001b[38;5;45mNone\u001b[0m, \u001b[38;5;34m46\u001b[0m, \u001b[38;5;34m46\u001b[0m, \u001b[38;5;34m64\u001b[0m)          │             \u001b[38;5;34m640\u001b[0m │\n",
              "├──────────────────────────────────────┼─────────────────────────────┼─────────────────┤\n",
              "│ max_pooling2d_2 (\u001b[38;5;33mMaxPooling2D\u001b[0m)       │ (\u001b[38;5;45mNone\u001b[0m, \u001b[38;5;34m23\u001b[0m, \u001b[38;5;34m23\u001b[0m, \u001b[38;5;34m64\u001b[0m)          │               \u001b[38;5;34m0\u001b[0m │\n",
              "├──────────────────────────────────────┼─────────────────────────────┼─────────────────┤\n",
              "│ dropout_3 (\u001b[38;5;33mDropout\u001b[0m)                  │ (\u001b[38;5;45mNone\u001b[0m, \u001b[38;5;34m23\u001b[0m, \u001b[38;5;34m23\u001b[0m, \u001b[38;5;34m64\u001b[0m)          │               \u001b[38;5;34m0\u001b[0m │\n",
              "├──────────────────────────────────────┼─────────────────────────────┼─────────────────┤\n",
              "│ conv2d_3 (\u001b[38;5;33mConv2D\u001b[0m)                    │ (\u001b[38;5;45mNone\u001b[0m, \u001b[38;5;34m21\u001b[0m, \u001b[38;5;34m21\u001b[0m, \u001b[38;5;34m128\u001b[0m)         │          \u001b[38;5;34m73,856\u001b[0m │\n",
              "├──────────────────────────────────────┼─────────────────────────────┼─────────────────┤\n",
              "│ max_pooling2d_3 (\u001b[38;5;33mMaxPooling2D\u001b[0m)       │ (\u001b[38;5;45mNone\u001b[0m, \u001b[38;5;34m10\u001b[0m, \u001b[38;5;34m10\u001b[0m, \u001b[38;5;34m128\u001b[0m)         │               \u001b[38;5;34m0\u001b[0m │\n",
              "├──────────────────────────────────────┼─────────────────────────────┼─────────────────┤\n",
              "│ dropout_4 (\u001b[38;5;33mDropout\u001b[0m)                  │ (\u001b[38;5;45mNone\u001b[0m, \u001b[38;5;34m10\u001b[0m, \u001b[38;5;34m10\u001b[0m, \u001b[38;5;34m128\u001b[0m)         │               \u001b[38;5;34m0\u001b[0m │\n",
              "├──────────────────────────────────────┼─────────────────────────────┼─────────────────┤\n",
              "│ flatten_1 (\u001b[38;5;33mFlatten\u001b[0m)                  │ (\u001b[38;5;45mNone\u001b[0m, \u001b[38;5;34m12800\u001b[0m)               │               \u001b[38;5;34m0\u001b[0m │\n",
              "├──────────────────────────────────────┼─────────────────────────────┼─────────────────┤\n",
              "│ dense_2 (\u001b[38;5;33mDense\u001b[0m)                      │ (\u001b[38;5;45mNone\u001b[0m, \u001b[38;5;34m256\u001b[0m)                 │       \u001b[38;5;34m3,277,056\u001b[0m │\n",
              "├──────────────────────────────────────┼─────────────────────────────┼─────────────────┤\n",
              "│ dropout_5 (\u001b[38;5;33mDropout\u001b[0m)                  │ (\u001b[38;5;45mNone\u001b[0m, \u001b[38;5;34m256\u001b[0m)                 │               \u001b[38;5;34m0\u001b[0m │\n",
              "├──────────────────────────────────────┼─────────────────────────────┼─────────────────┤\n",
              "│ dense_3 (\u001b[38;5;33mDense\u001b[0m)                      │ (\u001b[38;5;45mNone\u001b[0m, \u001b[38;5;34m8\u001b[0m)                   │           \u001b[38;5;34m2,056\u001b[0m │\n",
              "└──────────────────────────────────────┴─────────────────────────────┴─────────────────┘\n"
            ],
            "text/html": [
              "<pre style=\"white-space:pre;overflow-x:auto;line-height:normal;font-family:Menlo,'DejaVu Sans Mono',consolas,'Courier New',monospace\">┏━━━━━━━━━━━━━━━━━━━━━━━━━━━━━━━━━━━━━━┳━━━━━━━━━━━━━━━━━━━━━━━━━━━━━┳━━━━━━━━━━━━━━━━━┓\n",
              "┃<span style=\"font-weight: bold\"> Layer (type)                         </span>┃<span style=\"font-weight: bold\"> Output Shape                </span>┃<span style=\"font-weight: bold\">         Param # </span>┃\n",
              "┡━━━━━━━━━━━━━━━━━━━━━━━━━━━━━━━━━━━━━━╇━━━━━━━━━━━━━━━━━━━━━━━━━━━━━╇━━━━━━━━━━━━━━━━━┩\n",
              "│ conv2d_2 (<span style=\"color: #0087ff; text-decoration-color: #0087ff\">Conv2D</span>)                    │ (<span style=\"color: #00d7ff; text-decoration-color: #00d7ff\">None</span>, <span style=\"color: #00af00; text-decoration-color: #00af00\">46</span>, <span style=\"color: #00af00; text-decoration-color: #00af00\">46</span>, <span style=\"color: #00af00; text-decoration-color: #00af00\">64</span>)          │             <span style=\"color: #00af00; text-decoration-color: #00af00\">640</span> │\n",
              "├──────────────────────────────────────┼─────────────────────────────┼─────────────────┤\n",
              "│ max_pooling2d_2 (<span style=\"color: #0087ff; text-decoration-color: #0087ff\">MaxPooling2D</span>)       │ (<span style=\"color: #00d7ff; text-decoration-color: #00d7ff\">None</span>, <span style=\"color: #00af00; text-decoration-color: #00af00\">23</span>, <span style=\"color: #00af00; text-decoration-color: #00af00\">23</span>, <span style=\"color: #00af00; text-decoration-color: #00af00\">64</span>)          │               <span style=\"color: #00af00; text-decoration-color: #00af00\">0</span> │\n",
              "├──────────────────────────────────────┼─────────────────────────────┼─────────────────┤\n",
              "│ dropout_3 (<span style=\"color: #0087ff; text-decoration-color: #0087ff\">Dropout</span>)                  │ (<span style=\"color: #00d7ff; text-decoration-color: #00d7ff\">None</span>, <span style=\"color: #00af00; text-decoration-color: #00af00\">23</span>, <span style=\"color: #00af00; text-decoration-color: #00af00\">23</span>, <span style=\"color: #00af00; text-decoration-color: #00af00\">64</span>)          │               <span style=\"color: #00af00; text-decoration-color: #00af00\">0</span> │\n",
              "├──────────────────────────────────────┼─────────────────────────────┼─────────────────┤\n",
              "│ conv2d_3 (<span style=\"color: #0087ff; text-decoration-color: #0087ff\">Conv2D</span>)                    │ (<span style=\"color: #00d7ff; text-decoration-color: #00d7ff\">None</span>, <span style=\"color: #00af00; text-decoration-color: #00af00\">21</span>, <span style=\"color: #00af00; text-decoration-color: #00af00\">21</span>, <span style=\"color: #00af00; text-decoration-color: #00af00\">128</span>)         │          <span style=\"color: #00af00; text-decoration-color: #00af00\">73,856</span> │\n",
              "├──────────────────────────────────────┼─────────────────────────────┼─────────────────┤\n",
              "│ max_pooling2d_3 (<span style=\"color: #0087ff; text-decoration-color: #0087ff\">MaxPooling2D</span>)       │ (<span style=\"color: #00d7ff; text-decoration-color: #00d7ff\">None</span>, <span style=\"color: #00af00; text-decoration-color: #00af00\">10</span>, <span style=\"color: #00af00; text-decoration-color: #00af00\">10</span>, <span style=\"color: #00af00; text-decoration-color: #00af00\">128</span>)         │               <span style=\"color: #00af00; text-decoration-color: #00af00\">0</span> │\n",
              "├──────────────────────────────────────┼─────────────────────────────┼─────────────────┤\n",
              "│ dropout_4 (<span style=\"color: #0087ff; text-decoration-color: #0087ff\">Dropout</span>)                  │ (<span style=\"color: #00d7ff; text-decoration-color: #00d7ff\">None</span>, <span style=\"color: #00af00; text-decoration-color: #00af00\">10</span>, <span style=\"color: #00af00; text-decoration-color: #00af00\">10</span>, <span style=\"color: #00af00; text-decoration-color: #00af00\">128</span>)         │               <span style=\"color: #00af00; text-decoration-color: #00af00\">0</span> │\n",
              "├──────────────────────────────────────┼─────────────────────────────┼─────────────────┤\n",
              "│ flatten_1 (<span style=\"color: #0087ff; text-decoration-color: #0087ff\">Flatten</span>)                  │ (<span style=\"color: #00d7ff; text-decoration-color: #00d7ff\">None</span>, <span style=\"color: #00af00; text-decoration-color: #00af00\">12800</span>)               │               <span style=\"color: #00af00; text-decoration-color: #00af00\">0</span> │\n",
              "├──────────────────────────────────────┼─────────────────────────────┼─────────────────┤\n",
              "│ dense_2 (<span style=\"color: #0087ff; text-decoration-color: #0087ff\">Dense</span>)                      │ (<span style=\"color: #00d7ff; text-decoration-color: #00d7ff\">None</span>, <span style=\"color: #00af00; text-decoration-color: #00af00\">256</span>)                 │       <span style=\"color: #00af00; text-decoration-color: #00af00\">3,277,056</span> │\n",
              "├──────────────────────────────────────┼─────────────────────────────┼─────────────────┤\n",
              "│ dropout_5 (<span style=\"color: #0087ff; text-decoration-color: #0087ff\">Dropout</span>)                  │ (<span style=\"color: #00d7ff; text-decoration-color: #00d7ff\">None</span>, <span style=\"color: #00af00; text-decoration-color: #00af00\">256</span>)                 │               <span style=\"color: #00af00; text-decoration-color: #00af00\">0</span> │\n",
              "├──────────────────────────────────────┼─────────────────────────────┼─────────────────┤\n",
              "│ dense_3 (<span style=\"color: #0087ff; text-decoration-color: #0087ff\">Dense</span>)                      │ (<span style=\"color: #00d7ff; text-decoration-color: #00d7ff\">None</span>, <span style=\"color: #00af00; text-decoration-color: #00af00\">8</span>)                   │           <span style=\"color: #00af00; text-decoration-color: #00af00\">2,056</span> │\n",
              "└──────────────────────────────────────┴─────────────────────────────┴─────────────────┘\n",
              "</pre>\n"
            ]
          },
          "metadata": {}
        },
        {
          "output_type": "display_data",
          "data": {
            "text/plain": [
              "\u001b[1m Total params: \u001b[0m\u001b[38;5;34m3,353,608\u001b[0m (12.79 MB)\n"
            ],
            "text/html": [
              "<pre style=\"white-space:pre;overflow-x:auto;line-height:normal;font-family:Menlo,'DejaVu Sans Mono',consolas,'Courier New',monospace\"><span style=\"font-weight: bold\"> Total params: </span><span style=\"color: #00af00; text-decoration-color: #00af00\">3,353,608</span> (12.79 MB)\n",
              "</pre>\n"
            ]
          },
          "metadata": {}
        },
        {
          "output_type": "display_data",
          "data": {
            "text/plain": [
              "\u001b[1m Trainable params: \u001b[0m\u001b[38;5;34m3,353,608\u001b[0m (12.79 MB)\n"
            ],
            "text/html": [
              "<pre style=\"white-space:pre;overflow-x:auto;line-height:normal;font-family:Menlo,'DejaVu Sans Mono',consolas,'Courier New',monospace\"><span style=\"font-weight: bold\"> Trainable params: </span><span style=\"color: #00af00; text-decoration-color: #00af00\">3,353,608</span> (12.79 MB)\n",
              "</pre>\n"
            ]
          },
          "metadata": {}
        },
        {
          "output_type": "display_data",
          "data": {
            "text/plain": [
              "\u001b[1m Non-trainable params: \u001b[0m\u001b[38;5;34m0\u001b[0m (0.00 B)\n"
            ],
            "text/html": [
              "<pre style=\"white-space:pre;overflow-x:auto;line-height:normal;font-family:Menlo,'DejaVu Sans Mono',consolas,'Courier New',monospace\"><span style=\"font-weight: bold\"> Non-trainable params: </span><span style=\"color: #00af00; text-decoration-color: #00af00\">0</span> (0.00 B)\n",
              "</pre>\n"
            ]
          },
          "metadata": {}
        }
      ]
    },
    {
      "cell_type": "code",
      "source": [
        "history = model.fit(X_train, y_train, validation_split=0.2, epochs=25, batch_size=64)\n"
      ],
      "metadata": {
        "colab": {
          "base_uri": "https://localhost:8080/"
        },
        "id": "cWFnXja8PXPk",
        "outputId": "06edcc64-099c-4d51-d80c-63c98c636a23"
      },
      "execution_count": 36,
      "outputs": [
        {
          "output_type": "stream",
          "name": "stdout",
          "text": [
            "Epoch 1/25\n",
            "\u001b[1m10/10\u001b[0m \u001b[32m━━━━━━━━━━━━━━━━━━━━\u001b[0m\u001b[37m\u001b[0m \u001b[1m8s\u001b[0m 546ms/step - accuracy: 0.4981 - loss: 1.6839 - val_accuracy: 0.6892 - val_loss: 1.3518\n",
            "Epoch 2/25\n",
            "\u001b[1m10/10\u001b[0m \u001b[32m━━━━━━━━━━━━━━━━━━━━\u001b[0m\u001b[37m\u001b[0m \u001b[1m10s\u001b[0m 618ms/step - accuracy: 0.6453 - loss: 1.3546 - val_accuracy: 0.6892 - val_loss: 1.5044\n",
            "Epoch 3/25\n",
            "\u001b[1m10/10\u001b[0m \u001b[32m━━━━━━━━━━━━━━━━━━━━\u001b[0m\u001b[37m\u001b[0m \u001b[1m9s\u001b[0m 434ms/step - accuracy: 0.6279 - loss: 1.3822 - val_accuracy: 0.6892 - val_loss: 1.3570\n",
            "Epoch 4/25\n",
            "\u001b[1m10/10\u001b[0m \u001b[32m━━━━━━━━━━━━━━━━━━━━\u001b[0m\u001b[37m\u001b[0m \u001b[1m6s\u001b[0m 637ms/step - accuracy: 0.6249 - loss: 1.3312 - val_accuracy: 0.6892 - val_loss: 1.4023\n",
            "Epoch 5/25\n",
            "\u001b[1m10/10\u001b[0m \u001b[32m━━━━━━━━━━━━━━━━━━━━\u001b[0m\u001b[37m\u001b[0m \u001b[1m8s\u001b[0m 441ms/step - accuracy: 0.6409 - loss: 1.2964 - val_accuracy: 0.6892 - val_loss: 1.4123\n",
            "Epoch 6/25\n",
            "\u001b[1m10/10\u001b[0m \u001b[32m━━━━━━━━━━━━━━━━━━━━\u001b[0m\u001b[37m\u001b[0m \u001b[1m7s\u001b[0m 666ms/step - accuracy: 0.6526 - loss: 1.2557 - val_accuracy: 0.6892 - val_loss: 1.3442\n",
            "Epoch 7/25\n",
            "\u001b[1m10/10\u001b[0m \u001b[32m━━━━━━━━━━━━━━━━━━━━\u001b[0m\u001b[37m\u001b[0m \u001b[1m5s\u001b[0m 455ms/step - accuracy: 0.6315 - loss: 1.2268 - val_accuracy: 0.7027 - val_loss: 1.1765\n",
            "Epoch 8/25\n",
            "\u001b[1m10/10\u001b[0m \u001b[32m━━━━━━━━━━━━━━━━━━━━\u001b[0m\u001b[37m\u001b[0m \u001b[1m5s\u001b[0m 496ms/step - accuracy: 0.6607 - loss: 1.0881 - val_accuracy: 0.7365 - val_loss: 0.9783\n",
            "Epoch 9/25\n",
            "\u001b[1m10/10\u001b[0m \u001b[32m━━━━━━━━━━━━━━━━━━━━\u001b[0m\u001b[37m\u001b[0m \u001b[1m6s\u001b[0m 580ms/step - accuracy: 0.6915 - loss: 1.0283 - val_accuracy: 0.7635 - val_loss: 0.9427\n",
            "Epoch 10/25\n",
            "\u001b[1m10/10\u001b[0m \u001b[32m━━━━━━━━━━━━━━━━━━━━\u001b[0m\u001b[37m\u001b[0m \u001b[1m5s\u001b[0m 470ms/step - accuracy: 0.7568 - loss: 0.8528 - val_accuracy: 0.7838 - val_loss: 0.9340\n",
            "Epoch 11/25\n",
            "\u001b[1m10/10\u001b[0m \u001b[32m━━━━━━━━━━━━━━━━━━━━\u001b[0m\u001b[37m\u001b[0m \u001b[1m7s\u001b[0m 631ms/step - accuracy: 0.7858 - loss: 0.8308 - val_accuracy: 0.7838 - val_loss: 0.8957\n",
            "Epoch 12/25\n",
            "\u001b[1m10/10\u001b[0m \u001b[32m━━━━━━━━━━━━━━━━━━━━\u001b[0m\u001b[37m\u001b[0m \u001b[1m9s\u001b[0m 492ms/step - accuracy: 0.7794 - loss: 0.8173 - val_accuracy: 0.7838 - val_loss: 0.7692\n",
            "Epoch 13/25\n",
            "\u001b[1m10/10\u001b[0m \u001b[32m━━━━━━━━━━━━━━━━━━━━\u001b[0m\u001b[37m\u001b[0m \u001b[1m7s\u001b[0m 718ms/step - accuracy: 0.7891 - loss: 0.7312 - val_accuracy: 0.7905 - val_loss: 0.6822\n",
            "Epoch 14/25\n",
            "\u001b[1m10/10\u001b[0m \u001b[32m━━━━━━━━━━━━━━━━━━━━\u001b[0m\u001b[37m\u001b[0m \u001b[1m8s\u001b[0m 455ms/step - accuracy: 0.8051 - loss: 0.6546 - val_accuracy: 0.8041 - val_loss: 0.6189\n",
            "Epoch 15/25\n",
            "\u001b[1m10/10\u001b[0m \u001b[32m━━━━━━━━━━━━━━━━━━━━\u001b[0m\u001b[37m\u001b[0m \u001b[1m7s\u001b[0m 687ms/step - accuracy: 0.8375 - loss: 0.5820 - val_accuracy: 0.8041 - val_loss: 0.6403\n",
            "Epoch 16/25\n",
            "\u001b[1m10/10\u001b[0m \u001b[32m━━━━━━━━━━━━━━━━━━━━\u001b[0m\u001b[37m\u001b[0m \u001b[1m8s\u001b[0m 476ms/step - accuracy: 0.8350 - loss: 0.5598 - val_accuracy: 0.8108 - val_loss: 0.5948\n",
            "Epoch 17/25\n",
            "\u001b[1m10/10\u001b[0m \u001b[32m━━━━━━━━━━━━━━━━━━━━\u001b[0m\u001b[37m\u001b[0m \u001b[1m6s\u001b[0m 648ms/step - accuracy: 0.8264 - loss: 0.5261 - val_accuracy: 0.8108 - val_loss: 0.6019\n",
            "Epoch 18/25\n",
            "\u001b[1m10/10\u001b[0m \u001b[32m━━━━━━━━━━━━━━━━━━━━\u001b[0m\u001b[37m\u001b[0m \u001b[1m5s\u001b[0m 461ms/step - accuracy: 0.8424 - loss: 0.4818 - val_accuracy: 0.8176 - val_loss: 0.5690\n",
            "Epoch 19/25\n",
            "\u001b[1m10/10\u001b[0m \u001b[32m━━━━━━━━━━━━━━━━━━━━\u001b[0m\u001b[37m\u001b[0m \u001b[1m6s\u001b[0m 564ms/step - accuracy: 0.8429 - loss: 0.4521 - val_accuracy: 0.8514 - val_loss: 0.4757\n",
            "Epoch 20/25\n",
            "\u001b[1m10/10\u001b[0m \u001b[32m━━━━━━━━━━━━━━━━━━━━\u001b[0m\u001b[37m\u001b[0m \u001b[1m9s\u001b[0m 457ms/step - accuracy: 0.8647 - loss: 0.4220 - val_accuracy: 0.8311 - val_loss: 0.4987\n",
            "Epoch 21/25\n",
            "\u001b[1m10/10\u001b[0m \u001b[32m━━━━━━━━━━━━━━━━━━━━\u001b[0m\u001b[37m\u001b[0m \u001b[1m7s\u001b[0m 661ms/step - accuracy: 0.8769 - loss: 0.3984 - val_accuracy: 0.8446 - val_loss: 0.4671\n",
            "Epoch 22/25\n",
            "\u001b[1m10/10\u001b[0m \u001b[32m━━━━━━━━━━━━━━━━━━━━\u001b[0m\u001b[37m\u001b[0m \u001b[1m8s\u001b[0m 458ms/step - accuracy: 0.8822 - loss: 0.3239 - val_accuracy: 0.8378 - val_loss: 0.4780\n",
            "Epoch 23/25\n",
            "\u001b[1m10/10\u001b[0m \u001b[32m━━━━━━━━━━━━━━━━━━━━\u001b[0m\u001b[37m\u001b[0m \u001b[1m6s\u001b[0m 647ms/step - accuracy: 0.8725 - loss: 0.3421 - val_accuracy: 0.8784 - val_loss: 0.4030\n",
            "Epoch 24/25\n",
            "\u001b[1m10/10\u001b[0m \u001b[32m━━━━━━━━━━━━━━━━━━━━\u001b[0m\u001b[37m\u001b[0m \u001b[1m5s\u001b[0m 468ms/step - accuracy: 0.8804 - loss: 0.3343 - val_accuracy: 0.8649 - val_loss: 0.4427\n",
            "Epoch 25/25\n",
            "\u001b[1m10/10\u001b[0m \u001b[32m━━━━━━━━━━━━━━━━━━━━\u001b[0m\u001b[37m\u001b[0m \u001b[1m5s\u001b[0m 461ms/step - accuracy: 0.9081 - loss: 0.2873 - val_accuracy: 0.8514 - val_loss: 0.4340\n"
          ]
        }
      ]
    },
    {
      "cell_type": "code",
      "source": [
        "plt.plot(history.history['accuracy'], label='Accuracy')\n",
        "plt.plot(history.history['val_accuracy'], label='Validation Accuracy')\n",
        "plt.legend()\n",
        "plt.show()\n"
      ],
      "metadata": {
        "colab": {
          "base_uri": "https://localhost:8080/",
          "height": 430
        },
        "id": "eCg7fAVcPcC5",
        "outputId": "4c381445-4e7f-4093-d083-3ef6ab80b3f7"
      },
      "execution_count": 37,
      "outputs": [
        {
          "output_type": "display_data",
          "data": {
            "text/plain": [
              "<Figure size 640x480 with 1 Axes>"
            ],
            "image/png": "[encoded data removed]"
          },
          "metadata": {}
        }
      ]
    },
    {
      "cell_type": "code",
      "source": [
        "test_loss, test_acc = model.evaluate(X_test, y_test)\n",
        "print(f\"Test Accuracy: {test_acc}\")\n"
      ],
      "metadata": {
        "colab": {
          "base_uri": "https://localhost:8080/"
        },
        "id": "jafvqzXHPg6k",
        "outputId": "e3a20261-31c8-4a4b-f4eb-c465e41700c2"
      },
      "execution_count": 38,
      "outputs": [
        {
          "output_type": "stream",
          "name": "stdout",
          "text": [
            "\u001b[1m6/6\u001b[0m \u001b[32m━━━━━━━━━━━━━━━━━━━━\u001b[0m\u001b[37m\u001b[0m \u001b[1m0s\u001b[0m 61ms/step - accuracy: 0.8523 - loss: 0.4813\n",
            "Test Accuracy: 0.864130437374115\n"
          ]
        }
      ]
    },
    {
      "cell_type": "code",
      "source": [
        "y_pred = model.predict(X_test)\n",
        "y_pred_classes = np.argmax(y_pred, axis=1)\n",
        "y_true = np.argmax(y_test, axis=1)\n",
        "\n",
        "cm = confusion_matrix(y_true, y_pred_classes)\n",
        "sns.heatmap(cm, annot=True, fmt='d', cmap='Blues')\n",
        "plt.show()\n"
      ],
      "metadata": {
        "colab": {
          "base_uri": "https://localhost:8080/",
          "height": 447
        },
        "id": "t1bGtmodPlT3",
        "outputId": "b08a8536-8c9f-47ea-8a5e-22dbae0ecb21"
      },
      "execution_count": 39,
      "outputs": [
        {
          "output_type": "stream",
          "name": "stdout",
          "text": [
            "\u001b[1m6/6\u001b[0m \u001b[32m━━━━━━━━━━━━━━━━━━━━\u001b[0m\u001b[37m\u001b[0m \u001b[1m0s\u001b[0m 70ms/step\n"
          ]
        },
        {
          "output_type": "display_data",
          "data": {
            "text/plain": [
              "<Figure size 640x480 with 2 Axes>"
            ],
            "image/png": "[encoded data removed]"
          },
          "metadata": {}
        }
      ]
    },
    {
      "cell_type": "code",
      "source": [
        "from google.colab import files\n",
        "import cv2\n",
        "import matplotlib.pyplot as plt\n",
        "import numpy as np\n",
        "\n",
        "# Upload image\n",
        "uploaded = files.upload()\n",
        "\n",
        "# Load and preprocess the image\n",
        "img_path = list(uploaded.keys())[0]  # Get the name of the uploaded file\n",
        "img = cv2.imread(img_path, cv2.IMREAD_GRAYSCALE)\n",
        "img_resized = cv2.resize(img, (48, 48))  # Resize to 48x48 for the model\n",
        "\n",
        "# Normalize and reshape the image for model input\n",
        "img_resized = img_resized.reshape(1, 48, 48, 1)  # Add batch dimension\n",
        "img_resized = img_resized / 255.0  # Normalize to [0, 1]\n",
        "\n",
        "# Predict emotion\n",
        "prediction = model.predict(img_resized)\n",
        "emotion_label = np.argmax(prediction)\n",
        "emotion_dict = {0: 'Anger', 1: 'Disgust', 2: 'Fear', 3: 'Happy', 4: 'Sadness', 5: 'Surprise', 6: 'Neutral'}\n",
        "predicted_emotion = emotion_dict[emotion_label]\n",
        "\n",
        "# Display the image and predicted emotion\n",
        "plt.imshow(img_resized[0], cmap='gray')\n",
        "plt.title(f\"Predicted Emotion: {predicted_emotion}\")\n",
        "plt.axis('off')\n",
        "plt.show()\n"
      ],
      "metadata": {
        "colab": {
          "base_uri": "https://localhost:8080/",
          "height": 501
        },
        "id": "4dyOl52fqlOr",
        "outputId": "e2a3c62d-a713-4343-8994-af12d9ab981f"
      },
      "execution_count": 55,
      "outputs": [
        {
          "output_type": "display_data",
          "data": {
            "text/plain": [
              "<IPython.core.display.HTML object>"
            ],
            "text/html": [
              "\n",
              "     <input type=\"file\" id=\"files-945bf5c9-14d6-4ffb-a50f-df1578bbc1cc\" name=\"files[]\" multiple disabled\n",
              "        style=\"border:none\" />\n",
              "     <output id=\"result-945bf5c9-14d6-4ffb-a50f-df1578bbc1cc\">\n",
              "      Upload widget is only available when the cell has been executed in the\n",
              "      current browser session. Please rerun this cell to enable.\n",
              "      </output>\n",
              "      <script>// Copyright 2017 Google LLC\n",
              "//\n",
              "// Licensed under the Apache License, Version 2.0 (the \"License\");\n",
              "// you may not use this file except in compliance with the License.\n",
              "// You may obtain a copy of the License at\n",
              "//\n",
              "//      http://www.apache.org/licenses/LICENSE-2.0\n",
              "//\n",
              "// Unless required by applicable law or agreed to in writing, software\n",
              "// distributed under the License is distributed on an \"AS IS\" BASIS,\n",
              "// WITHOUT WARRANTIES OR CONDITIONS OF ANY KIND, either express or implied.\n",
              "// See the License for the specific language governing permissions and\n",
              "// limitations under the License.\n",
              "\n",
              "/**\n",
              " * @fileoverview Helpers for google.colab Python module.\n",
              " */\n",
              "(function(scope) {\n",
              "function span(text, styleAttributes = {}) {\n",
              "  const element = document.createElement('span');\n",
              "  element.textContent = text;\n",
              "  for (const key of Object.keys(styleAttributes)) {\n",
              "    element.style[key] = styleAttributes[key];\n",
              "  }\n",
              "  return element;\n",
              "}\n",
              "\n",
              "// Max number of bytes which will be uploaded at a time.\n",
              "const MAX_PAYLOAD_SIZE = 100 * 1024;\n",
              "\n",
              "function _uploadFiles(inputId, outputId) {\n",
              "  const steps = uploadFilesStep(inputId, outputId);\n",
              "  const outputElement = document.getElementById(outputId);\n",
              "  // Cache steps on the outputElement to make it available for the next call\n",
              "  // to uploadFilesContinue from Python.\n",
              "  outputElement.steps = steps;\n",
              "\n",
              "  return _uploadFilesContinue(outputId);\n",
              "}\n",
              "\n",
              "// This is roughly an async generator (not supported in the browser yet),\n",
              "// where there are multiple asynchronous steps and the Python side is going\n",
              "// to poll for completion of each step.\n",
              "// This uses a Promise to block the python side on completion of each step,\n",
              "// then passes the result of the previous step as the input to the next step.\n",
              "function _uploadFilesContinue(outputId) {\n",
              "  const outputElement = document.getElementById(outputId);\n",
              "  const steps = outputElement.steps;\n",
              "\n",
              "  const next = steps.next(outputElement.lastPromiseValue);\n",
              "  return Promise.resolve(next.value.promise).then((value) => {\n",
              "    // Cache the last promise value to make it available to the next\n",
              "    // step of the generator.\n",
              "    outputElement.lastPromiseValue = value;\n",
              "    return next.value.response;\n",
              "  });\n",
              "}\n",
              "\n",
              "/**\n",
              " * Generator function which is called between each async step of the upload\n",
              " * process.\n",
              " * @param {string} inputId Element ID of the input file picker element.\n",
              " * @param {string} outputId Element ID of the output display.\n",
              " * @return {!Iterable<!Object>} Iterable of next steps.\n",
              " */\n",
              "function* uploadFilesStep(inputId, outputId) {\n",
              "  const inputElement = document.getElementById(inputId);\n",
              "  inputElement.disabled = false;\n",
              "\n",
              "  const outputElement = document.getElementById(outputId);\n",
              "  outputElement.innerHTML = '';\n",
              "\n",
              "  const pickedPromise = new Promise((resolve) => {\n",
              "    inputElement.addEventListener('change', (e) => {\n",
              "      resolve(e.target.files);\n",
              "    });\n",
              "  });\n",
              "\n",
              "  const cancel = document.createElement('button');\n",
              "  inputElement.parentElement.appendChild(cancel);\n",
              "  cancel.textContent = 'Cancel upload';\n",
              "  const cancelPromise = new Promise((resolve) => {\n",
              "    cancel.onclick = () => {\n",
              "      resolve(null);\n",
              "    };\n",
              "  });\n",
              "\n",
              "  // Wait for the user to pick the files.\n",
              "  const files = yield {\n",
              "    promise: Promise.race([pickedPromise, cancelPromise]),\n",
              "    response: {\n",
              "      action: 'starting',\n",
              "    }\n",
              "  };\n",
              "\n",
              "  cancel.remove();\n",
              "\n",
              "  // Disable the input element since further picks are not allowed.\n",
              "  inputElement.disabled = true;\n",
              "\n",
              "  if (!files) {\n",
              "    return {\n",
              "      response: {\n",
              "        action: 'complete',\n",
              "      }\n",
              "    };\n",
              "  }\n",
              "\n",
              "  for (const file of files) {\n",
              "    const li = document.createElement('li');\n",
              "    li.append(span(file.name, {fontWeight: 'bold'}));\n",
              "    li.append(span(\n",
              "        `(${file.type || 'n/a'}) - ${file.size} bytes, ` +\n",
              "        `last modified: ${\n",
              "            file.lastModifiedDate ? file.lastModifiedDate.toLocaleDateString() :\n",
              "                                    'n/a'} - `));\n",
              "    const percent = span('0% done');\n",
              "    li.appendChild(percent);\n",
              "\n",
              "    outputElement.appendChild(li);\n",
              "\n",
              "    const fileDataPromise = new Promise((resolve) => {\n",
              "      const reader = new FileReader();\n",
              "      reader.onload = (e) => {\n",
              "        resolve(e.target.result);\n",
              "      };\n",
              "      reader.readAsArrayBuffer(file);\n",
              "    });\n",
              "    // Wait for the data to be ready.\n",
              "    let fileData = yield {\n",
              "      promise: fileDataPromise,\n",
              "      response: {\n",
              "        action: 'continue',\n",
              "      }\n",
              "    };\n",
              "\n",
              "    // Use a chunked sending to avoid message size limits. See b/62115660.\n",
              "    let position = 0;\n",
              "    do {\n",
              "      const length = Math.min(fileData.byteLength - position, MAX_PAYLOAD_SIZE);\n",
              "      const chunk = new Uint8Array(fileData, position, length);\n",
              "      position += length;\n",
              "\n",
              "      const base64 = btoa(String.fromCharCode.apply(null, chunk));\n",
              "      yield {\n",
              "        response: {\n",
              "          action: 'append',\n",
              "          file: file.name,\n",
              "          data: base64,\n",
              "        },\n",
              "      };\n",
              "\n",
              "      let percentDone = fileData.byteLength === 0 ?\n",
              "          100 :\n",
              "          Math.round((position / fileData.byteLength) * 100);\n",
              "      percent.textContent = `${percentDone}% done`;\n",
              "\n",
              "    } while (position < fileData.byteLength);\n",
              "  }\n",
              "\n",
              "  // All done.\n",
              "  yield {\n",
              "    response: {\n",
              "      action: 'complete',\n",
              "    }\n",
              "  };\n",
              "}\n",
              "\n",
              "scope.google = scope.google || {};\n",
              "scope.google.colab = scope.google.colab || {};\n",
              "scope.google.colab._files = {\n",
              "  _uploadFiles,\n",
              "  _uploadFilesContinue,\n",
              "};\n",
              "})(self);\n",
              "</script> "
            ]
          },
          "metadata": {}
        },
        {
          "output_type": "stream",
          "name": "stdout",
          "text": [
            "Saving Screenshot 2024-12-30 002402.png to Screenshot 2024-12-30 002402 (1).png\n",
            "\u001b[1m1/1\u001b[0m \u001b[32m━━━━━━━━━━━━━━━━━━━━\u001b[0m\u001b[37m\u001b[0m \u001b[1m0s\u001b[0m 33ms/step\n"
          ]
        },
        {
          "output_type": "display_data",
          "data": {
            "text/plain": [
              "<Figure size 640x480 with 1 Axes>"
            ],
            "image/png": "[encoded data removed]"
          },
          "metadata": {}
        }
      ]
    },
    {
      "cell_type": "code",
      "source": [
        "model.save(\"facial_emotion_recognition.h5\")"
      ],
      "metadata": {
        "colab": {
          "base_uri": "https://localhost:8080/"
        },
        "id": "sPUTooUYPtwy",
        "outputId": "dc71d2cd-3b04-4a23-d9e0-211c28fda546"
      },
      "execution_count": 56,
      "outputs": [
        {
          "output_type": "stream",
          "name": "stderr",
          "text": [
            "WARNING:absl:You are saving your model as an HDF5 file via `model.save()` or `keras.saving.save_model(model)`. This file format is considered legacy. We recommend using instead the native Keras format, e.g. `model.save('my_model.keras')` or `keras.saving.save_model(model, 'my_model.keras')`. \n"
          ]
        }
      ]
    },
    {
      "cell_type": "code",
      "source": [
        "from google.colab import files\n",
        "files.download(\"facial_emotion_recognition.h5\")\n"
      ],
      "metadata": {
        "colab": {
          "base_uri": "https://localhost:8080/",
          "height": 17
        },
        "id": "ShJwelk2Pxia",
        "outputId": "fda9646b-4783-4ba2-fee3-6a41b63a2bcd"
      },
      "execution_count": 57,
      "outputs": [
        {
          "output_type": "display_data",
          "data": {
            "text/plain": [
              "<IPython.core.display.Javascript object>"
            ],
            "application/javascript": [
              "\n",
              "    async function download(id, filename, size) {\n",
              "      if (!google.colab.kernel.accessAllowed) {\n",
              "        return;\n",
              "      }\n",
              "      const div = document.createElement('div');\n",
              "      const label = document.createElement('label');\n",
              "      label.textContent = `Downloading \"${filename}\": `;\n",
              "      div.appendChild(label);\n",
              "      const progress = document.createElement('progress');\n",
              "      progress.max = size;\n",
              "      div.appendChild(progress);\n",
              "      document.body.appendChild(div);\n",
              "\n",
              "      const buffers = [];\n",
              "      let downloaded = 0;\n",
              "\n",
              "      const channel = await google.colab.kernel.comms.open(id);\n",
              "      // Send a message to notify the kernel that we're ready.\n",
              "      channel.send({})\n",
              "\n",
              "      for await (const message of channel.messages) {\n",
              "        // Send a message to notify the kernel that we're ready.\n",
              "        channel.send({})\n",
              "        if (message.buffers) {\n",
              "          for (const buffer of message.buffers) {\n",
              "            buffers.push(buffer);\n",
              "            downloaded += buffer.byteLength;\n",
              "            progress.value = downloaded;\n",
              "          }\n",
              "        }\n",
              "      }\n",
              "      const blob = new Blob(buffers, {type: 'application/binary'});\n",
              "      const a = document.createElement('a');\n",
              "      a.href = window.URL.createObjectURL(blob);\n",
              "      a.download = filename;\n",
              "      div.appendChild(a);\n",
              "      a.click();\n",
              "      div.remove();\n",
              "    }\n",
              "  "
            ]
          },
          "metadata": {}
        },
        {
          "output_type": "display_data",
          "data": {
            "text/plain": [
              "<IPython.core.display.Javascript object>"
            ],
            "application/javascript": [
              "download(\"download_c8a79e96-5e32-4135-8b85-83ef2b47d048\", \"facial_emotion_recognition.h5\", 40285384)"
            ]
          },
          "metadata": {}
        }
      ]
    }
  ]
}